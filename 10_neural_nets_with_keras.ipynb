{
  "nbformat": 4,
  "nbformat_minor": 0,
  "metadata": {
    "kernelspec": {
      "display_name": "Python 3",
      "language": "python",
      "name": "python3"
    },
    "language_info": {
      "codemirror_mode": {
        "name": "ipython",
        "version": 3
      },
      "file_extension": ".py",
      "mimetype": "text/x-python",
      "name": "python",
      "nbconvert_exporter": "python",
      "pygments_lexer": "ipython3",
      "version": "3.7.10"
    },
    "nav_menu": {
      "height": "264px",
      "width": "369px"
    },
    "toc": {
      "navigate_menu": true,
      "number_sections": true,
      "sideBar": true,
      "threshold": 6,
      "toc_cell": false,
      "toc_section_display": "block",
      "toc_window_display": false
    },
    "colab": {
      "name": "10_neural_nets_with_keras.ipynb",
      "provenance": []
    }
  },
  "cells": [
    {
      "cell_type": "markdown",
      "metadata": {
        "id": "BDd6tI-gTCLL"
      },
      "source": [
        "**Chapter 10 – Introduction to Artificial Neural Networks with Keras**\n",
        "\n",
        "_This notebook contains all the sample code and solutions to the exercises in chapter 10._"
      ]
    },
    {
      "cell_type": "markdown",
      "metadata": {
        "id": "8mGtVphFTCLN"
      },
      "source": [
        "<table align=\"left\">\n",
        "  <td>\n",
        "    <a href=\"https://colab.research.google.com/github/ageron/handson-ml2/blob/master/10_neural_nets_with_keras.ipynb\" target=\"_parent\"><img src=\"https://colab.research.google.com/assets/colab-badge.svg\" alt=\"Open In Colab\"/></a>\n",
        "  </td>\n",
        "  <td>\n",
        "    <a target=\"_blank\" href=\"https://kaggle.com/kernels/welcome?src=https://github.com/ageron/handson-ml2/blob/add-kaggle-badge/10_neural_nets_with_keras.ipynb\"><img src=\"https://kaggle.com/static/images/open-in-kaggle.svg\" /></a>\n",
        "  </td>\n",
        "</table>"
      ]
    },
    {
      "cell_type": "markdown",
      "metadata": {
        "id": "6zhh4dn4TCLN"
      },
      "source": [
        "# Setup"
      ]
    },
    {
      "cell_type": "markdown",
      "metadata": {
        "id": "EBWaDTB2TCLN"
      },
      "source": [
        "First, let's import a few common modules, ensure MatplotLib plots figures inline and prepare a function to save the figures. We also check that Python 3.5 or later is installed (although Python 2.x may work, it is deprecated so we strongly recommend you use Python 3 instead), as well as Scikit-Learn ≥0.20 and TensorFlow ≥2.0."
      ]
    },
    {
      "cell_type": "code",
      "metadata": {
        "id": "3QhU_Gs3TCLO"
      },
      "source": [
        "# Python ≥3.5 is required\n",
        "import sys\n",
        "assert sys.version_info >= (3, 5)\n",
        "\n",
        "# Scikit-Learn ≥0.20 is required\n",
        "import sklearn\n",
        "assert sklearn.__version__ >= \"0.20\"\n",
        "\n",
        "try:\n",
        "    # %tensorflow_version only exists in Colab.\n",
        "    %tensorflow_version 2.x\n",
        "except Exception:\n",
        "    pass\n",
        "\n",
        "# TensorFlow ≥2.0 is required\n",
        "import tensorflow as tf\n",
        "assert tf.__version__ >= \"2.0\"\n",
        "\n",
        "# Common imports\n",
        "import numpy as np\n",
        "import os\n",
        "\n",
        "# to make this notebook's output stable across runs\n",
        "np.random.seed(42)\n",
        "\n",
        "# To plot pretty figures\n",
        "%matplotlib inline\n",
        "import matplotlib as mpl\n",
        "import matplotlib.pyplot as plt\n",
        "mpl.rc('axes', labelsize=14)\n",
        "mpl.rc('xtick', labelsize=12)\n",
        "mpl.rc('ytick', labelsize=12)\n",
        "\n",
        "# Where to save the figures\n",
        "PROJECT_ROOT_DIR = \".\"\n",
        "CHAPTER_ID = \"ann\"\n",
        "IMAGES_PATH = os.path.join(PROJECT_ROOT_DIR, \"images\", CHAPTER_ID)\n",
        "os.makedirs(IMAGES_PATH, exist_ok=True)\n",
        "\n",
        "def save_fig(fig_id, tight_layout=True, fig_extension=\"png\", resolution=300):\n",
        "    path = os.path.join(IMAGES_PATH, fig_id + \".\" + fig_extension)\n",
        "    print(\"Saving figure\", fig_id)\n",
        "    if tight_layout:\n",
        "        plt.tight_layout()\n",
        "    plt.savefig(path, format=fig_extension, dpi=resolution)\n"
      ],
      "execution_count": 1,
      "outputs": []
    },
    {
      "cell_type": "code",
      "metadata": {
        "id": "cAMo34TRgnis"
      },
      "source": [
        "from keras.models import Sequential\n",
        "from keras.layers import Conv2D, MaxPooling2D\n",
        "from keras.layers import Activation, Dropout, Flatten, Dense\n"
      ],
      "execution_count": 2,
      "outputs": []
    },
    {
      "cell_type": "markdown",
      "metadata": {
        "id": "I1uUwJM-TCLS"
      },
      "source": [
        "# Building an Image Classifier"
      ]
    },
    {
      "cell_type": "markdown",
      "metadata": {
        "id": "4viVMRFPTCLS"
      },
      "source": [
        "First let's import TensorFlow and Keras."
      ]
    },
    {
      "cell_type": "code",
      "metadata": {
        "id": "t-PBkTIjTCLS"
      },
      "source": [
        "import tensorflow as tf\n",
        "from tensorflow import keras"
      ],
      "execution_count": 3,
      "outputs": []
    },
    {
      "cell_type": "code",
      "metadata": {
        "colab": {
          "base_uri": "https://localhost:8080/",
          "height": 37
        },
        "id": "3EDcrZxyTCLS",
        "outputId": "0bcfb770-60c5-4dd0-90c1-873d761b09e3"
      },
      "source": [
        "tf.__version__"
      ],
      "execution_count": 4,
      "outputs": [
        {
          "output_type": "execute_result",
          "data": {
            "application/vnd.google.colaboratory.intrinsic+json": {
              "type": "string"
            },
            "text/plain": [
              "'2.6.0'"
            ]
          },
          "metadata": {},
          "execution_count": 4
        }
      ]
    },
    {
      "cell_type": "code",
      "metadata": {
        "colab": {
          "base_uri": "https://localhost:8080/",
          "height": 37
        },
        "id": "5hevn7ooTCLT",
        "outputId": "67399a85-a3ef-4890-a526-9785426a60c2"
      },
      "source": [
        "keras.__version__"
      ],
      "execution_count": 5,
      "outputs": [
        {
          "output_type": "execute_result",
          "data": {
            "application/vnd.google.colaboratory.intrinsic+json": {
              "type": "string"
            },
            "text/plain": [
              "'2.6.0'"
            ]
          },
          "metadata": {},
          "execution_count": 5
        }
      ]
    },
    {
      "cell_type": "code",
      "metadata": {
        "id": "6JCKHSQhFt8w"
      },
      "source": [
        "import joblib"
      ],
      "execution_count": 8,
      "outputs": []
    },
    {
      "cell_type": "code",
      "metadata": {
        "id": "0u7-ytdCFwre"
      },
      "source": [
        "array_controls = joblib.load('array_with_controls.pkl')"
      ],
      "execution_count": 9,
      "outputs": []
    },
    {
      "cell_type": "code",
      "metadata": {
        "id": "ndi_6ExAF31C"
      },
      "source": [
        "array_rest = joblib.load('all_images_rest_np.pkl')"
      ],
      "execution_count": 10,
      "outputs": []
    },
    {
      "cell_type": "code",
      "metadata": {
        "colab": {
          "base_uri": "https://localhost:8080/"
        },
        "id": "ztVb1YHUP7b0",
        "outputId": "cb9ad116-7c4a-4920-eac2-bb83e734ea4d"
      },
      "source": [
        " np.unique(array_rest)"
      ],
      "execution_count": 11,
      "outputs": [
        {
          "output_type": "execute_result",
          "data": {
            "text/plain": [
              "array([  0.,  19.,  30.,  51., 100., 101., 102., 103., 104., 105., 106.,\n",
              "       107., 108., 109., 110., 111., 112., 113., 114., 115., 116., 117.,\n",
              "       118., 119., 120., 121., 122., 123., 124., 125., 126., 127., 128.,\n",
              "       129., 130., 131., 132., 133., 134., 135., 136., 137., 138., 139.,\n",
              "       140., 141., 142., 143., 144., 145., 146., 147., 148., 149., 150.,\n",
              "       151., 152., 153., 154., 155., 156., 157., 158., 159., 160., 161.,\n",
              "       162., 163., 164., 165., 166., 167., 168., 169., 170., 171., 172.,\n",
              "       173., 174., 175., 176., 177., 178., 179., 180., 181., 182., 183.,\n",
              "       184., 185., 186., 187., 188., 189., 190., 191., 192., 193., 194.,\n",
              "       195., 196., 197., 198., 199., 200., 201., 202., 203., 204., 205.,\n",
              "       206., 207., 208., 209., 210., 211., 212., 213., 214., 215., 216.,\n",
              "       217., 218., 219., 220., 221., 222., 223., 224., 225., 226., 227.,\n",
              "       228., 229., 230., 231., 232., 233., 234., 235., 236., 237., 238.,\n",
              "       239., 240., 241., 242., 243., 244., 245., 246., 247., 248., 249.,\n",
              "       250., 251., 252., 253., 254., 255.], dtype=float32)"
            ]
          },
          "metadata": {},
          "execution_count": 11
        }
      ]
    },
    {
      "cell_type": "code",
      "metadata": {
        "id": "pusRbhbbIw9G"
      },
      "source": [
        "array_controls = np.squeeze(array_controls, axis=3)"
      ],
      "execution_count": 12,
      "outputs": []
    },
    {
      "cell_type": "code",
      "metadata": {
        "id": "6F5yjRRwMsSB"
      },
      "source": [
        "np.random.shuffle(array_controls)"
      ],
      "execution_count": 13,
      "outputs": []
    },
    {
      "cell_type": "code",
      "metadata": {
        "id": "xlf4N5BAGC8f"
      },
      "source": [
        "array_rest = np.squeeze(array_rest, axis=3)"
      ],
      "execution_count": 14,
      "outputs": []
    },
    {
      "cell_type": "code",
      "metadata": {
        "id": "ajCKoxKoM2rL"
      },
      "source": [
        "np.random.shuffle(array_rest)"
      ],
      "execution_count": 15,
      "outputs": []
    },
    {
      "cell_type": "code",
      "metadata": {
        "id": "d7J9xohVGWlo"
      },
      "source": [
        "y_controls = np.zeros((len(array_controls)))"
      ],
      "execution_count": 16,
      "outputs": []
    },
    {
      "cell_type": "code",
      "metadata": {
        "id": "n12J8GZ0GF9s"
      },
      "source": [
        "y_rest = np.ones((len(array_rest)))"
      ],
      "execution_count": 17,
      "outputs": []
    },
    {
      "cell_type": "code",
      "metadata": {
        "id": "MvO7X3U7GyIE"
      },
      "source": [
        "len_rest_train = int(len(y_rest)*0.75)"
      ],
      "execution_count": 18,
      "outputs": []
    },
    {
      "cell_type": "code",
      "metadata": {
        "id": "igVH4cadGbod"
      },
      "source": [
        "len_controls_train = int(len(y_controls)*0.75)"
      ],
      "execution_count": 19,
      "outputs": []
    },
    {
      "cell_type": "code",
      "metadata": {
        "colab": {
          "base_uri": "https://localhost:8080/"
        },
        "id": "NsfmemwyG9hC",
        "outputId": "7f0fba18-448a-4922-e9b2-b02cc827a04c"
      },
      "source": [
        "int(len_controls_train)"
      ],
      "execution_count": 20,
      "outputs": [
        {
          "output_type": "execute_result",
          "data": {
            "text/plain": [
              "194"
            ]
          },
          "metadata": {},
          "execution_count": 20
        }
      ]
    },
    {
      "cell_type": "code",
      "metadata": {
        "colab": {
          "base_uri": "https://localhost:8080/"
        },
        "id": "OhibDSrnH1-4",
        "outputId": "c05ff045-b207-4581-be53-7277e012f6bc"
      },
      "source": [
        "array_controls.shape"
      ],
      "execution_count": 21,
      "outputs": [
        {
          "output_type": "execute_result",
          "data": {
            "text/plain": [
              "(259, 288, 432)"
            ]
          },
          "metadata": {},
          "execution_count": 21
        }
      ]
    },
    {
      "cell_type": "code",
      "metadata": {
        "id": "6Xg2aQ45G2sD"
      },
      "source": [
        "X_train = np.concatenate((array_controls[:len_controls_train], array_rest[:len_rest_train]), axis = 0)"
      ],
      "execution_count": 22,
      "outputs": []
    },
    {
      "cell_type": "code",
      "metadata": {
        "id": "yo3AUJI0F_9J"
      },
      "source": [
        "y_train = np.concatenate((y_controls[:len_controls_train], y_rest[:len_rest_train]), axis=0).astype(int)"
      ],
      "execution_count": 23,
      "outputs": []
    },
    {
      "cell_type": "code",
      "metadata": {
        "id": "Pa7moK_NNzgo"
      },
      "source": [
        "train = np.c_[X_train.reshape(len(X_train), -1), y_train.reshape(len(y_train), -1)].astype(int)\n",
        "# array([[  0.,   1.,   2.,   3.,   4.,   5.,   0.,   1.],\n",
        "#        [  6.,   7.,   8.,   9.,  10.,  11.,   2.,   3.],\n",
        "#        [ 12.,  13.,  14.,  15.,  16.,  17.,   4.,   5.]])"
      ],
      "execution_count": 24,
      "outputs": []
    },
    {
      "cell_type": "code",
      "metadata": {
        "id": "40BywBfCN9vV"
      },
      "source": [
        "X_train = train[:, :X_train.size//len(X_train)].reshape(X_train.shape)\n",
        "y_train = train[:, X_train.size//len(X_train):].reshape(y_train.shape)"
      ],
      "execution_count": 25,
      "outputs": []
    },
    {
      "cell_type": "code",
      "metadata": {
        "id": "9C18AtdOOjhV"
      },
      "source": [
        "np.random.shuffle(train)"
      ],
      "execution_count": 26,
      "outputs": []
    },
    {
      "cell_type": "code",
      "metadata": {
        "id": "T8IoMBcFHez6"
      },
      "source": [
        "X_test = np.concatenate((array_controls[len_controls_train:], array_rest[len_rest_train:]), axis = 0)"
      ],
      "execution_count": 27,
      "outputs": []
    },
    {
      "cell_type": "code",
      "metadata": {
        "id": "YcCthobJHkKs"
      },
      "source": [
        "y_test = np.concatenate((y_controls[len_controls_train:], y_rest[len_rest_train:]), axis=0).astype(int)"
      ],
      "execution_count": 28,
      "outputs": []
    },
    {
      "cell_type": "code",
      "metadata": {
        "colab": {
          "base_uri": "https://localhost:8080/"
        },
        "id": "VxLXywRWavP-",
        "outputId": "55b84e39-e192-4101-aa60-904d081986dd"
      },
      "source": [
        "len(array_rest)"
      ],
      "execution_count": 29,
      "outputs": [
        {
          "output_type": "execute_result",
          "data": {
            "text/plain": [
              "192"
            ]
          },
          "metadata": {},
          "execution_count": 29
        }
      ]
    },
    {
      "cell_type": "code",
      "metadata": {
        "colab": {
          "base_uri": "https://localhost:8080/"
        },
        "id": "W2DAlSsfaF0N",
        "outputId": "c8c1954b-c0d4-49b4-f2e1-73fc5cc495af"
      },
      "source": [
        "len(X_test)"
      ],
      "execution_count": 30,
      "outputs": [
        {
          "output_type": "execute_result",
          "data": {
            "text/plain": [
              "113"
            ]
          },
          "metadata": {},
          "execution_count": 30
        }
      ]
    },
    {
      "cell_type": "code",
      "metadata": {
        "colab": {
          "base_uri": "https://localhost:8080/"
        },
        "id": "Mqt24G9UaJb4",
        "outputId": "35cb68b3-3626-4ea1-ef7c-538a3c60a93e"
      },
      "source": [
        "len(y_test)"
      ],
      "execution_count": 31,
      "outputs": [
        {
          "output_type": "execute_result",
          "data": {
            "text/plain": [
              "113"
            ]
          },
          "metadata": {},
          "execution_count": 31
        }
      ]
    },
    {
      "cell_type": "code",
      "metadata": {
        "id": "M_yyHPNEOk0O"
      },
      "source": [
        "test = np.c_[X_test.reshape(len(X_test), -1), y_test.reshape(len(y_test), -1)].astype(int)\n"
      ],
      "execution_count": 32,
      "outputs": []
    },
    {
      "cell_type": "code",
      "metadata": {
        "id": "CSxdNM4fOkgK"
      },
      "source": [
        "X_test = test[:, :X_test.size//len(X_test)].reshape(X_test.shape)\n",
        "y_test = test[:, X_test.size//len(X_test):].reshape(y_test.shape)"
      ],
      "execution_count": 33,
      "outputs": []
    },
    {
      "cell_type": "code",
      "metadata": {
        "id": "xpA9hyfrPYRZ"
      },
      "source": [
        "np.random.shuffle(test)"
      ],
      "execution_count": 34,
      "outputs": []
    },
    {
      "cell_type": "code",
      "metadata": {
        "colab": {
          "base_uri": "https://localhost:8080/"
        },
        "id": "DaRr4FBZHrmc",
        "outputId": "4ce79598-c030-4826-8091-7b7b238a70d4"
      },
      "source": [
        "len(y_test)"
      ],
      "execution_count": 35,
      "outputs": [
        {
          "output_type": "execute_result",
          "data": {
            "text/plain": [
              "113"
            ]
          },
          "metadata": {},
          "execution_count": 35
        }
      ]
    },
    {
      "cell_type": "markdown",
      "metadata": {
        "id": "_pAMeLD1TCLT"
      },
      "source": [
        "Let's start by loading the fashion MNIST dataset. Keras has a number of functions to load popular datasets in `keras.datasets`. The dataset is already split for you between a training set and a test set, but it can be useful to split the training set further to have a validation set:"
      ]
    },
    {
      "cell_type": "markdown",
      "metadata": {
        "id": "AHHwrYwoTCLU"
      },
      "source": [
        "You can plot an image using Matplotlib's `imshow()` function, with a `'binary'`\n",
        " color map:"
      ]
    },
    {
      "cell_type": "code",
      "metadata": {
        "colab": {
          "base_uri": "https://localhost:8080/",
          "height": 248
        },
        "id": "y8-5gYDcTCLV",
        "outputId": "8dd9c147-8d1a-4192-bc4f-312cbe3d828b"
      },
      "source": [
        "plt.imshow(X_train[4], cmap=\"binary\")\n",
        "plt.axis('off')\n",
        "plt.show()"
      ],
      "execution_count": 36,
      "outputs": [
        {
          "output_type": "display_data",
          "data": {
            "image/png": "[encoded data removed]",
            "text/plain": [
              "<Figure size 432x288 with 1 Axes>"
            ]
          },
          "metadata": {
            "needs_background": "light"
          }
        }
      ]
    },
    {
      "cell_type": "markdown",
      "metadata": {
        "id": "2ic6UrDMTCLV"
      },
      "source": [
        "The labels are the class IDs (represented as uint8), from 0 to 9:"
      ]
    },
    {
      "cell_type": "code",
      "metadata": {
        "colab": {
          "base_uri": "https://localhost:8080/"
        },
        "id": "lIvAZIF2TCLW",
        "outputId": "17da338f-e5b8-4508-d0aa-f966962106cd"
      },
      "source": [
        "y_test"
      ],
      "execution_count": 37,
      "outputs": [
        {
          "output_type": "execute_result",
          "data": {
            "text/plain": [
              "array([1, 0, 0, 1, 1, 0, 1, 1, 1, 0, 0, 1, 1, 0, 0, 1, 1, 0, 1, 1, 0, 0,\n",
              "       0, 1, 0, 0, 0, 1, 0, 1, 0, 0, 0, 0, 0, 0, 0, 1, 0, 1, 0, 0, 0, 0,\n",
              "       0, 1, 0, 1, 0, 0, 1, 1, 0, 1, 0, 1, 1, 1, 0, 0, 0, 1, 1, 1, 0, 1,\n",
              "       1, 0, 0, 1, 0, 0, 1, 1, 0, 0, 0, 0, 0, 1, 0, 1, 1, 0, 1, 0, 1, 0,\n",
              "       0, 0, 0, 0, 0, 0, 1, 0, 1, 1, 1, 0, 0, 1, 0, 0, 0, 1, 1, 1, 0, 0,\n",
              "       1, 1, 0])"
            ]
          },
          "metadata": {},
          "execution_count": 37
        }
      ]
    },
    {
      "cell_type": "markdown",
      "metadata": {
        "id": "DrMXWUMqTCLX"
      },
      "source": [
        "Here are the corresponding class names:"
      ]
    },
    {
      "cell_type": "code",
      "metadata": {
        "id": "HhhM-gJgTCLY"
      },
      "source": [
        "class_names = [\"Control\", \"Rest\"]"
      ],
      "execution_count": 38,
      "outputs": []
    },
    {
      "cell_type": "markdown",
      "metadata": {
        "id": "H_gvY83VTCLZ"
      },
      "source": [
        "So the first image in the training set is a coat:"
      ]
    },
    {
      "cell_type": "code",
      "metadata": {
        "colab": {
          "base_uri": "https://localhost:8080/",
          "height": 37
        },
        "id": "mknbmCfnTCLZ",
        "outputId": "ef15b10e-fc71-4649-9fc8-fee007d79a19"
      },
      "source": [
        "class_names[y_train[0]]"
      ],
      "execution_count": 39,
      "outputs": [
        {
          "output_type": "execute_result",
          "data": {
            "application/vnd.google.colaboratory.intrinsic+json": {
              "type": "string"
            },
            "text/plain": [
              "'Control'"
            ]
          },
          "metadata": {},
          "execution_count": 39
        }
      ]
    },
    {
      "cell_type": "markdown",
      "metadata": {
        "id": "7MWTB-5LTCLa"
      },
      "source": [
        "The validation set contains 5,000 images, and the test set contains 10,000 images:"
      ]
    },
    {
      "cell_type": "code",
      "metadata": {
        "colab": {
          "base_uri": "https://localhost:8080/"
        },
        "id": "YYwelINjTCLa",
        "outputId": "d4b7618e-bb83-4ca9-a5ab-a9aa219dc37c"
      },
      "source": [
        "X_test.shape"
      ],
      "execution_count": 40,
      "outputs": [
        {
          "output_type": "execute_result",
          "data": {
            "text/plain": [
              "(113, 288, 432)"
            ]
          },
          "metadata": {},
          "execution_count": 40
        }
      ]
    },
    {
      "cell_type": "markdown",
      "metadata": {
        "id": "84CN5GP9TCLa"
      },
      "source": [
        "Let's take a look at a sample of the images in the dataset:"
      ]
    },
    {
      "cell_type": "code",
      "metadata": {
        "colab": {
          "base_uri": "https://localhost:8080/",
          "height": 709
        },
        "id": "vHIZyonJTCLb",
        "outputId": "f1181bcc-8afd-4ad1-c2b8-2bf3f3f71290"
      },
      "source": [
        "n_rows = 10\n",
        "n_cols = 10\n",
        "plt.figure(figsize=(n_cols * 1.2, n_rows * 1.2))\n",
        "for row in range(n_rows):\n",
        "    for col in range(n_cols):\n",
        "        index = n_cols * row + col\n",
        "        plt.subplot(n_rows, n_cols, index + 1)\n",
        "        plt.imshow(X_train[index], cmap=\"binary\", interpolation=\"nearest\")\n",
        "        plt.axis('off')\n",
        "        plt.title(class_names[y_train[index]], fontsize=12)\n",
        "plt.subplots_adjust(wspace=0.2, hspace=0.5)\n",
        "save_fig('fashion_mnist_plot', tight_layout=False)\n",
        "plt.show()"
      ],
      "execution_count": 41,
      "outputs": [
        {
          "output_type": "stream",
          "text": [
            "Saving figure fashion_mnist_plot\n"
          ],
          "name": "stdout"
        },
        {
          "output_type": "display_data",
          "data": {
            "image/png": "[encoded data removed]",
            "text/plain": [
              "<Figure size 864x864 with 100 Axes>"
            ]
          },
          "metadata": {
            "needs_background": "light"
          }
        }
      ]
    },
    {
      "cell_type": "code",
      "metadata": {
        "id": "C5SyqfYVTCLb"
      },
      "source": [
        "model = keras.models.Sequential()\n",
        "model.add(keras.layers.Flatten(input_shape=[288, 432]))\n",
        "model.add(keras.layers.Dense(300, activation=\"relu\"))\n",
        "model.add(keras.layers.Dense(100, activation=\"relu\"))\n",
        "model.add(keras.layers.Dense(2, activation=\"softmax\"))"
      ],
      "execution_count": 42,
      "outputs": []
    },
    {
      "cell_type": "code",
      "metadata": {
        "id": "ILTPz9IhTCLb"
      },
      "source": [
        "keras.backend.clear_session()\n",
        "np.random.seed(42)\n",
        "tf.random.set_seed(42)"
      ],
      "execution_count": 43,
      "outputs": []
    },
    {
      "cell_type": "code",
      "metadata": {
        "id": "EobBHWz3TCLb"
      },
      "source": [
        "model = keras.models.Sequential([\n",
        "    keras.layers.Flatten(input_shape=[288, 432]),\n",
        "    keras.layers.Dense(300, activation=\"relu\"),\n",
        "    keras.layers.BatchNormalization(),\n",
        "    keras.layers.Dropout(0.3),\n",
        "    keras.layers.Dense(30, activation=\"relu\"),\n",
        "    keras.layers.Dropout(0.3),\n",
        "    keras.layers.Dense(10, activation=\"relu\"),\n",
        "    keras.layers.Dropout(0.1),\n",
        "    keras.layers.Dense(1, activation=\"sigmoid\")\n",
        "])"
      ],
      "execution_count": 53,
      "outputs": []
    },
    {
      "cell_type": "code",
      "metadata": {
        "id": "Y2RwMBp4gjkE"
      },
      "source": [
        "model2 = Sequential()\n",
        "model2.add(Conv2D(32, (5, 5), strides = (1, 1), name = 'conv0', input_shape = (288, 432, 1)))\n",
        "\n",
        "model2.add(keras.layers.BatchNormalization(axis = 3, name = 'bn0'))\n",
        "model2.add(keras.layers.Activation('relu'))\n",
        "\n",
        "model2.add(keras.layers.MaxPooling2D((2, 2), name='max_pool'))\n",
        "model2.add(keras.layers.Conv2D(64, (3, 3), strides = (1,1), name=\"conv1\"))\n",
        "model2.add(keras.layers.Activation('relu'))\n",
        "model2.add(keras.layers.AveragePooling2D((3, 3), name='avg_pool'))\n",
        "\n",
        "model2.add(keras.layers.GlobalAveragePooling2D())\n",
        "model2.add(keras.layers.Dense(300, activation=\"relu\", name='rl'))\n",
        "model2.add(keras.layers.Dropout(0.5))\n",
        "model2.add(keras.layers.Dense(1,activation='sigmoid', name='sm'))"
      ],
      "execution_count": 61,
      "outputs": []
    },
    {
      "cell_type": "code",
      "metadata": {
        "id": "Tcm_Nn-jhk4f"
      },
      "source": [
        "model2.compile(loss='binary_crossentropy',\n",
        "              optimizer='adam', \n",
        "              metrics=['accuracy'])"
      ],
      "execution_count": 62,
      "outputs": []
    },
    {
      "cell_type": "code",
      "metadata": {
        "id": "nYMdK8CTTCLd"
      },
      "source": [
        "opt = keras.optimizers.Adam(learning_rate=0.01)\n",
        "model.compile(loss=\"binary_crossentropy\",\n",
        "              optimizer=opt,\n",
        "              metrics=[keras.metrics.BinaryAccuracy()])"
      ],
      "execution_count": 64,
      "outputs": []
    },
    {
      "cell_type": "markdown",
      "metadata": {
        "id": "uySHXSrOTCLd"
      },
      "source": [
        "This is equivalent to:"
      ]
    },
    {
      "cell_type": "code",
      "metadata": {
        "colab": {
          "base_uri": "https://localhost:8080/"
        },
        "id": "XLZ04tKbjpKR",
        "outputId": "972aa448-60ca-4b39-f162-b8cdcdbae2f6"
      },
      "source": [
        "len(y_train)"
      ],
      "execution_count": 98,
      "outputs": [
        {
          "output_type": "execute_result",
          "data": {
            "text/plain": [
              "338"
            ]
          },
          "metadata": {},
          "execution_count": 98
        }
      ]
    },
    {
      "cell_type": "code",
      "metadata": {
        "colab": {
          "base_uri": "https://localhost:8080/"
        },
        "id": "EDKsZ2cikcDr",
        "outputId": "56553014-2087-4a49-922f-cb524418f787"
      },
      "source": [
        "np.count_nonzero(y_train)"
      ],
      "execution_count": 99,
      "outputs": [
        {
          "output_type": "execute_result",
          "data": {
            "text/plain": [
              "144"
            ]
          },
          "metadata": {},
          "execution_count": 99
        }
      ]
    },
    {
      "cell_type": "code",
      "metadata": {
        "colab": {
          "base_uri": "https://localhost:8080/"
        },
        "id": "1antkjWXr-08",
        "outputId": "934c234b-2062-4445-c5ee-20b5abb70300"
      },
      "source": [
        "y_train"
      ],
      "execution_count": 139,
      "outputs": [
        {
          "output_type": "execute_result",
          "data": {
            "text/plain": [
              "array([0, 0, 1, 0, 0, 1, 0, 1, 0, 0, 1, 0, 0, 1, 1, 0, 0, 0, 0, 0, 0, 0,\n",
              "       0, 1, 0, 1, 0, 0, 0, 1, 0, 0, 1, 1, 1, 1, 1, 1, 0, 1, 0, 0, 0, 1,\n",
              "       1, 0, 1, 1, 0, 0, 0, 1, 1, 0, 0, 1, 1, 1, 0, 1, 0, 0, 0, 0, 1, 1,\n",
              "       1, 1, 0, 0, 0, 1, 1, 1, 1, 0, 0, 0, 0, 0, 0, 1, 0, 1, 1, 0, 0, 0,\n",
              "       0, 0, 0, 0, 0, 0, 0, 1, 0, 1, 0, 1, 1, 0, 1, 0, 1, 0, 0, 1, 0, 1,\n",
              "       1, 0, 0, 0, 1, 1, 0, 0, 0, 1, 1, 0, 1, 0, 1, 1, 1, 0, 0, 0, 1, 1,\n",
              "       0, 1, 0, 1, 1, 1, 0, 1, 0, 1, 1, 0, 0, 0, 1, 1, 0, 1, 0, 0, 0, 1,\n",
              "       1, 1, 1, 0, 1, 0, 0, 0, 0, 0, 0, 1, 0, 0, 0, 0, 0, 1, 0, 1, 1, 1,\n",
              "       0, 1, 0, 1, 0, 0, 1, 0, 0, 0, 1, 1, 1, 1, 0, 1, 0, 0, 0, 0, 0, 1,\n",
              "       0, 1, 0, 0, 1, 1, 0, 0, 0, 1, 0, 1, 1, 0, 1, 1, 0, 0, 0, 0, 0, 0,\n",
              "       0, 0, 1, 0, 1, 1, 0, 1, 0, 1, 0, 1, 1, 1, 0, 1, 0, 0, 0, 0, 1, 1,\n",
              "       0, 1, 0, 0, 1, 1, 0, 0, 1, 1, 0, 0, 0, 1, 1, 0, 0, 1, 0, 0, 0, 1,\n",
              "       0, 0, 1, 1, 0, 0, 0, 1, 0, 0, 1, 1, 0, 0, 1, 0, 0, 1, 0, 1, 0, 1,\n",
              "       0, 1, 1, 0, 0, 1, 0, 0, 0, 0, 1, 0, 0, 0, 0, 0, 0, 0, 1, 1, 1, 0,\n",
              "       0, 1, 0, 0, 1, 1, 0, 1, 1, 1, 0, 1, 0, 1, 1, 1, 0, 0, 1, 1, 1, 0,\n",
              "       0, 0, 1, 1, 0, 0, 0, 0])"
            ]
          },
          "metadata": {},
          "execution_count": 139
        }
      ]
    },
    {
      "cell_type": "code",
      "metadata": {
        "id": "QCGDxIDzspTs"
      },
      "source": [
        ""
      ],
      "execution_count": null,
      "outputs": []
    },
    {
      "cell_type": "code",
      "metadata": {
        "colab": {
          "base_uri": "https://localhost:8080/"
        },
        "id": "TKX96t03TCLd",
        "outputId": "c441cc66-09d3-4c9b-e32d-93e51c0f68dd"
      },
      "source": [
        "history = model.fit(X_train, y_train,validation_data=(X_test, y_test), epochs=20)"
      ],
      "execution_count": 66,
      "outputs": [
        {
          "output_type": "stream",
          "text": [
            "Epoch 1/20\n",
            "11/11 [==============================] - 2s 228ms/step - loss: 2.7161 - binary_accuracy: 0.6243 - val_loss: 3602.8462 - val_binary_accuracy: 0.4248\n",
            "Epoch 2/20\n",
            "11/11 [==============================] - 2s 223ms/step - loss: 0.6716 - binary_accuracy: 0.6420 - val_loss: 644.6368 - val_binary_accuracy: 0.4248\n",
            "Epoch 3/20\n",
            "11/11 [==============================] - 2s 221ms/step - loss: 0.6201 - binary_accuracy: 0.6982 - val_loss: 495.3666 - val_binary_accuracy: 0.4248\n",
            "Epoch 4/20\n",
            "11/11 [==============================] - 2s 224ms/step - loss: 0.5528 - binary_accuracy: 0.7071 - val_loss: 274.6404 - val_binary_accuracy: 0.4248\n",
            "Epoch 5/20\n",
            "11/11 [==============================] - 2s 224ms/step - loss: 0.5295 - binary_accuracy: 0.7101 - val_loss: 170.0278 - val_binary_accuracy: 0.4248\n",
            "Epoch 6/20\n",
            "11/11 [==============================] - 2s 222ms/step - loss: 0.5107 - binary_accuracy: 0.7308 - val_loss: 51.6935 - val_binary_accuracy: 0.4248\n",
            "Epoch 7/20\n",
            "11/11 [==============================] - 2s 224ms/step - loss: 0.4825 - binary_accuracy: 0.7574 - val_loss: 65.5142 - val_binary_accuracy: 0.4248\n",
            "Epoch 8/20\n",
            "11/11 [==============================] - 2s 226ms/step - loss: 0.4508 - binary_accuracy: 0.7485 - val_loss: 29.7478 - val_binary_accuracy: 0.4248\n",
            "Epoch 9/20\n",
            "11/11 [==============================] - 2s 225ms/step - loss: 0.4334 - binary_accuracy: 0.7840 - val_loss: 57.2766 - val_binary_accuracy: 0.4248\n",
            "Epoch 10/20\n",
            "11/11 [==============================] - 2s 223ms/step - loss: 0.3969 - binary_accuracy: 0.8195 - val_loss: 175.5790 - val_binary_accuracy: 0.4248\n",
            "Epoch 11/20\n",
            "11/11 [==============================] - 2s 222ms/step - loss: 0.3909 - binary_accuracy: 0.8136 - val_loss: 304.6909 - val_binary_accuracy: 0.4248\n",
            "Epoch 12/20\n",
            "11/11 [==============================] - 2s 221ms/step - loss: 0.3322 - binary_accuracy: 0.8580 - val_loss: 462.0411 - val_binary_accuracy: 0.4248\n",
            "Epoch 13/20\n",
            "11/11 [==============================] - 2s 222ms/step - loss: 0.3231 - binary_accuracy: 0.8580 - val_loss: 511.1879 - val_binary_accuracy: 0.4248\n",
            "Epoch 14/20\n",
            "11/11 [==============================] - 2s 221ms/step - loss: 0.3460 - binary_accuracy: 0.8166 - val_loss: 416.9009 - val_binary_accuracy: 0.4248\n",
            "Epoch 15/20\n",
            "11/11 [==============================] - 2s 222ms/step - loss: 0.2952 - binary_accuracy: 0.8462 - val_loss: 592.7566 - val_binary_accuracy: 0.4248\n",
            "Epoch 16/20\n",
            "11/11 [==============================] - 2s 220ms/step - loss: 0.3088 - binary_accuracy: 0.8284 - val_loss: 612.1411 - val_binary_accuracy: 0.4248\n",
            "Epoch 17/20\n",
            "11/11 [==============================] - 2s 221ms/step - loss: 0.2953 - binary_accuracy: 0.8787 - val_loss: 786.0802 - val_binary_accuracy: 0.4248\n",
            "Epoch 18/20\n",
            "11/11 [==============================] - 2s 222ms/step - loss: 0.2867 - binary_accuracy: 0.8817 - val_loss: 1120.0703 - val_binary_accuracy: 0.4248\n",
            "Epoch 19/20\n",
            "11/11 [==============================] - 2s 222ms/step - loss: 0.2818 - binary_accuracy: 0.8609 - val_loss: 650.7828 - val_binary_accuracy: 0.4248\n",
            "Epoch 20/20\n",
            "11/11 [==============================] - 2s 222ms/step - loss: 0.3129 - binary_accuracy: 0.8284 - val_loss: 69.3522 - val_binary_accuracy: 0.5752\n"
          ],
          "name": "stdout"
        }
      ]
    },
    {
      "cell_type": "code",
      "metadata": {
        "colab": {
          "base_uri": "https://localhost:8080/"
        },
        "id": "jq2q22as_0f8",
        "outputId": "18ca50f3-7125-4717-894a-1338d47d0449"
      },
      "source": [
        "y_train[:1]"
      ],
      "execution_count": 59,
      "outputs": [
        {
          "output_type": "execute_result",
          "data": {
            "text/plain": [
              "array([0])"
            ]
          },
          "metadata": {},
          "execution_count": 59
        }
      ]
    },
    {
      "cell_type": "code",
      "metadata": {
        "id": "gmi15mM3qbFN"
      },
      "source": [
        "expandedXtrain = np.expand_dims(X_train, axis=3)"
      ],
      "execution_count": null,
      "outputs": []
    },
    {
      "cell_type": "code",
      "metadata": {
        "colab": {
          "base_uri": "https://localhost:8080/"
        },
        "id": "ambZ_aJxLgJ4",
        "outputId": "41ec68ec-e39c-4bdf-f127-cc63fbbc0136"
      },
      "source": [
        "np.unique(y_test, return_counts=True)"
      ],
      "execution_count": 48,
      "outputs": [
        {
          "output_type": "execute_result",
          "data": {
            "text/plain": [
              "(array([0, 1]), array([65, 48]))"
            ]
          },
          "metadata": {},
          "execution_count": 48
        }
      ]
    },
    {
      "cell_type": "code",
      "metadata": {
        "colab": {
          "base_uri": "https://localhost:8080/",
          "height": 386
        },
        "id": "vCY55WVJTCLd",
        "outputId": "437ee69b-da07-41ee-974b-17aafbdfe8b1"
      },
      "source": [
        "import pandas as pd\n",
        "\n",
        "pd.DataFrame(history.history).plot(figsize=(8, 5))\n",
        "plt.grid(True)\n",
        "plt.gca().set_ylim(0, 1)\n",
        "save_fig(\"keras_learning_curves_plot\")\n",
        "plt.show()"
      ],
      "execution_count": 52,
      "outputs": [
        {
          "output_type": "stream",
          "text": [
            "Saving figure keras_learning_curves_plot\n"
          ],
          "name": "stdout"
        },
        {
          "output_type": "display_data",
          "data": {
            "image/png": "[encoded data removed]",
            "text/plain": [
              "<Figure size 576x360 with 1 Axes>"
            ]
          },
          "metadata": {
            "needs_background": "light"
          }
        }
      ]
    },
    {
      "cell_type": "code",
      "metadata": {
        "colab": {
          "base_uri": "https://localhost:8080/"
        },
        "id": "n-MCx0J2TCLd",
        "outputId": "01ae245e-28f4-499f-a8cf-42e0d076c7e0"
      },
      "source": [
        "model.evaluate(X_test, y_test)"
      ],
      "execution_count": 49,
      "outputs": [
        {
          "output_type": "stream",
          "text": [
            "4/4 [==============================] - 0s 59ms/step - loss: 296.7125 - binary_accuracy: 0.5752\n"
          ],
          "name": "stdout"
        },
        {
          "output_type": "execute_result",
          "data": {
            "text/plain": [
              "[296.7124938964844, 0.5752212405204773]"
            ]
          },
          "metadata": {},
          "execution_count": 49
        }
      ]
    },
    {
      "cell_type": "code",
      "metadata": {
        "colab": {
          "base_uri": "https://localhost:8080/"
        },
        "id": "IVpHqpTNjg1N",
        "outputId": "95312bf3-9b39-4010-979a-b7beb61b3d28"
      },
      "source": [
        "model.evaluate(X_train, y_train)"
      ],
      "execution_count": 50,
      "outputs": [
        {
          "output_type": "stream",
          "text": [
            "11/11 [==============================] - 1s 67ms/step - loss: 296.2424 - binary_accuracy: 0.5740\n"
          ],
          "name": "stdout"
        },
        {
          "output_type": "execute_result",
          "data": {
            "text/plain": [
              "[296.24237060546875, 0.5739644765853882]"
            ]
          },
          "metadata": {},
          "execution_count": 50
        }
      ]
    },
    {
      "cell_type": "code",
      "metadata": {
        "colab": {
          "base_uri": "https://localhost:8080/"
        },
        "id": "vv6IseO9jQ_Y",
        "outputId": "366873c2-4a4a-4f2e-9946-aa0ffc946234"
      },
      "source": [
        "model.predict(X_train)"
      ],
      "execution_count": 60,
      "outputs": [
        {
          "output_type": "execute_result",
          "data": {
            "text/plain": [
              "array([[4.97491626e-37],\n",
              "       [9.43338790e-37],\n",
              "       [1.16142092e-35],\n",
              "       [3.81992114e-36],\n",
              "       [8.53977059e-36],\n",
              "       [9.77216421e-36],\n",
              "       [3.48116887e-37],\n",
              "       [1.56030792e-34],\n",
              "       [8.58091576e-36],\n",
              "       [5.04515302e-36],\n",
              "       [7.76191748e-36],\n",
              "       [3.43737321e-36],\n",
              "       [7.43461075e-36],\n",
              "       [9.77216421e-36],\n",
              "       [1.07260739e-35],\n",
              "       [1.12159373e-36],\n",
              "       [4.59932568e-37],\n",
              "       [7.25261145e-37],\n",
              "       [6.87591373e-37],\n",
              "       [9.77216421e-36],\n",
              "       [6.05624493e-38],\n",
              "       [4.48725202e-36],\n",
              "       [9.03736042e-36],\n",
              "       [8.99941945e-35],\n",
              "       [8.82541360e-37],\n",
              "       [9.77216421e-36],\n",
              "       [1.22705944e-37],\n",
              "       [9.77216421e-36],\n",
              "       [5.07007990e-36],\n",
              "       [1.44292161e-35],\n",
              "       [2.35076521e-36],\n",
              "       [9.77186574e-36],\n",
              "       [3.78112911e-34],\n",
              "       [1.75779052e-35],\n",
              "       [9.77216421e-36],\n",
              "       [1.72053329e-35],\n",
              "       [1.25077549e-35],\n",
              "       [1.06130071e-35],\n",
              "       [2.16080725e-36],\n",
              "       [3.99648564e-35],\n",
              "       [9.77216421e-36],\n",
              "       [4.00304643e-35],\n",
              "       [1.44039662e-36],\n",
              "       [1.76659848e-33],\n",
              "       [1.33653234e-35],\n",
              "       [1.10430247e-35],\n",
              "       [1.35199816e-35],\n",
              "       [9.77216421e-36],\n",
              "       [9.77216421e-36],\n",
              "       [4.84152287e-36],\n",
              "       [1.15400154e-35],\n",
              "       [1.15250577e-35],\n",
              "       [1.58434038e-35],\n",
              "       [1.88224670e-36],\n",
              "       [1.22329242e-37],\n",
              "       [1.13022290e-35],\n",
              "       [9.77216421e-36],\n",
              "       [9.77216421e-36],\n",
              "       [2.41689749e-37],\n",
              "       [9.77216421e-36],\n",
              "       [9.97228021e-36],\n",
              "       [9.77216421e-36],\n",
              "       [4.12693115e-37],\n",
              "       [3.32123682e-36],\n",
              "       [9.77216421e-36],\n",
              "       [1.63356062e-35],\n",
              "       [7.72953327e-36],\n",
              "       [8.62348108e-35],\n",
              "       [2.06809537e-36],\n",
              "       [7.17369660e-37],\n",
              "       [2.33681752e-36],\n",
              "       [1.16380699e-35],\n",
              "       [8.91889980e-35],\n",
              "       [1.72064570e-34],\n",
              "       [1.19775829e-35],\n",
              "       [7.72743594e-37],\n",
              "       [9.99974028e-37],\n",
              "       [3.59736535e-36],\n",
              "       [9.77216421e-36],\n",
              "       [9.77216421e-36],\n",
              "       [9.90059830e-37],\n",
              "       [4.06487554e-35],\n",
              "       [2.40632838e-36],\n",
              "       [9.77216421e-36],\n",
              "       [2.75860744e-35],\n",
              "       [1.40093498e-36],\n",
              "       [1.92785979e-37],\n",
              "       [8.63901355e-37],\n",
              "       [5.15802243e-36],\n",
              "       [3.83403600e-37],\n",
              "       [1.30981180e-35],\n",
              "       [4.07474545e-37],\n",
              "       [9.77216421e-36],\n",
              "       [4.34190011e-36],\n",
              "       [9.77186574e-36],\n",
              "       [2.59795639e-34],\n",
              "       [1.14512963e-36],\n",
              "       [9.77216421e-36],\n",
              "       [3.76231822e-37],\n",
              "       [4.83718680e-35],\n",
              "       [2.77676676e-35],\n",
              "       [1.92940666e-35],\n",
              "       [4.38051586e-35],\n",
              "       [4.89709842e-36],\n",
              "       [9.77216421e-36],\n",
              "       [4.53716856e-36],\n",
              "       [6.91362995e-37],\n",
              "       [1.25932624e-35],\n",
              "       [9.77216421e-36],\n",
              "       [7.57590038e-35],\n",
              "       [9.77216421e-36],\n",
              "       [4.94364682e-36],\n",
              "       [9.77216421e-36],\n",
              "       [1.34713238e-36],\n",
              "       [9.77216421e-36],\n",
              "       [1.33812397e-35],\n",
              "       [8.01952304e-37],\n",
              "       [9.77216421e-36],\n",
              "       [1.19567656e-35],\n",
              "       [1.28171717e-35],\n",
              "       [1.60778068e-35],\n",
              "       [3.96294811e-36],\n",
              "       [1.25080419e-35],\n",
              "       [1.59479944e-36],\n",
              "       [9.77216421e-36],\n",
              "       [5.08913060e-35],\n",
              "       [9.77186574e-36],\n",
              "       [6.84871822e-36],\n",
              "       [7.00204404e-36],\n",
              "       [2.25012624e-36],\n",
              "       [9.77216421e-36],\n",
              "       [9.77216421e-36],\n",
              "       [9.77216421e-36],\n",
              "       [9.77216421e-36],\n",
              "       [1.06087978e-35],\n",
              "       [1.53319562e-35],\n",
              "       [2.37887685e-34],\n",
              "       [9.77216421e-36],\n",
              "       [7.57875876e-36],\n",
              "       [1.90323670e-35],\n",
              "       [1.86026106e-36],\n",
              "       [9.26262213e-36],\n",
              "       [9.38704918e-36],\n",
              "       [9.77216421e-36],\n",
              "       [1.06172542e-36],\n",
              "       [6.24020761e-36],\n",
              "       [9.04439588e-36],\n",
              "       [2.27622557e-35],\n",
              "       [4.30093341e-37],\n",
              "       [1.03373026e-35],\n",
              "       [9.77216421e-36],\n",
              "       [2.70561093e-36],\n",
              "       [6.34856408e-37],\n",
              "       [1.79318478e-35],\n",
              "       [1.04749669e-35],\n",
              "       [9.77216421e-36],\n",
              "       [1.88587084e-34],\n",
              "       [9.77216421e-36],\n",
              "       [9.41956772e-32],\n",
              "       [8.47072823e-36],\n",
              "       [9.15876121e-36],\n",
              "       [1.45271307e-36],\n",
              "       [9.77216421e-36],\n",
              "       [1.94075147e-36],\n",
              "       [5.13955991e-36],\n",
              "       [4.72098965e-35],\n",
              "       [6.11197244e-37],\n",
              "       [9.77216421e-36],\n",
              "       [1.42372408e-36],\n",
              "       [1.04297062e-36],\n",
              "       [8.97664442e-37],\n",
              "       [8.04643561e-35],\n",
              "       [2.47221245e-37],\n",
              "       [9.77216421e-36],\n",
              "       [1.43776777e-35],\n",
              "       [9.77216421e-36],\n",
              "       [1.02133179e-36],\n",
              "       [5.98891700e-35],\n",
              "       [6.22829008e-37],\n",
              "       [9.77216421e-36],\n",
              "       [6.29363498e-37],\n",
              "       [5.42059375e-36],\n",
              "       [9.77216421e-36],\n",
              "       [9.77216421e-36],\n",
              "       [7.35842962e-36],\n",
              "       [8.79631491e-35],\n",
              "       [2.32841990e-34],\n",
              "       [1.99203517e-35],\n",
              "       [5.32604380e-35],\n",
              "       [9.77216421e-36],\n",
              "       [3.50847200e-37],\n",
              "       [9.77186574e-36],\n",
              "       [3.37063140e-36],\n",
              "       [9.77216421e-36],\n",
              "       [2.39176694e-37],\n",
              "       [4.60090500e-37],\n",
              "       [8.09677409e-36],\n",
              "       [1.16594495e-34],\n",
              "       [7.86174554e-36],\n",
              "       [2.65948388e-34],\n",
              "       [3.60324354e-36],\n",
              "       [3.27617393e-37],\n",
              "       [9.77216421e-36],\n",
              "       [9.77216421e-36],\n",
              "       [1.84406717e-36],\n",
              "       [2.29272877e-37],\n",
              "       [1.90481186e-36],\n",
              "       [1.36840471e-35],\n",
              "       [1.37908475e-35],\n",
              "       [1.30014439e-35],\n",
              "       [1.28997734e-35],\n",
              "       [9.21781663e-37],\n",
              "       [9.77216421e-36],\n",
              "       [9.77216421e-36],\n",
              "       [1.01541145e-36],\n",
              "       [3.32131251e-36],\n",
              "       [6.15054388e-36],\n",
              "       [1.44277224e-36],\n",
              "       [9.49429582e-36],\n",
              "       [2.71091210e-35],\n",
              "       [1.32225626e-36],\n",
              "       [5.02538543e-37],\n",
              "       [9.77186574e-36],\n",
              "       [1.97259256e-36],\n",
              "       [1.06061375e-33],\n",
              "       [9.77216421e-36],\n",
              "       [9.80902199e-37],\n",
              "       [7.52201805e-36],\n",
              "       [7.20153011e-36],\n",
              "       [1.48280778e-35],\n",
              "       [2.58775478e-37],\n",
              "       [2.12556398e-35],\n",
              "       [2.88061618e-34],\n",
              "       [3.81379327e-35],\n",
              "       [3.15226632e-36],\n",
              "       [8.91777267e-36],\n",
              "       [9.32462383e-37],\n",
              "       [3.52915884e-36],\n",
              "       [9.19316544e-37],\n",
              "       [1.67226663e-36],\n",
              "       [9.77216421e-36],\n",
              "       [7.91178124e-35],\n",
              "       [3.99706105e-37],\n",
              "       [9.26139053e-35],\n",
              "       [1.06131693e-35],\n",
              "       [2.18482744e-36],\n",
              "       [1.28857068e-35],\n",
              "       [4.28547731e-35],\n",
              "       [7.79866101e-36],\n",
              "       [2.44860876e-36],\n",
              "       [5.18974213e-35],\n",
              "       [1.24027525e-35],\n",
              "       [1.18842298e-36],\n",
              "       [9.95695606e-37],\n",
              "       [9.05938229e-36],\n",
              "       [1.11473599e-34],\n",
              "       [4.50880323e-36],\n",
              "       [8.33940204e-36],\n",
              "       [1.48436970e-35],\n",
              "       [4.18430668e-34],\n",
              "       [4.23743867e-36],\n",
              "       [9.77216421e-36],\n",
              "       [3.46619516e-37],\n",
              "       [2.61138986e-34],\n",
              "       [9.77216421e-36],\n",
              "       [9.77216421e-36],\n",
              "       [1.81844591e-34],\n",
              "       [1.29773615e-35],\n",
              "       [9.77216421e-36],\n",
              "       [9.22003701e-36],\n",
              "       [4.73613680e-37],\n",
              "       [9.77216421e-36],\n",
              "       [2.89530953e-36],\n",
              "       [1.28497204e-36],\n",
              "       [1.56550673e-34],\n",
              "       [6.53666695e-35],\n",
              "       [1.40282351e-35],\n",
              "       [9.77216421e-36],\n",
              "       [1.32996137e-35],\n",
              "       [2.90457989e-36],\n",
              "       [9.36997926e-37],\n",
              "       [9.77216421e-36],\n",
              "       [2.36851565e-36],\n",
              "       [3.87692673e-35],\n",
              "       [3.99491368e-36],\n",
              "       [9.77216421e-36],\n",
              "       [3.03400372e-36],\n",
              "       [9.77186574e-36],\n",
              "       [9.33555530e-36],\n",
              "       [9.77216421e-36],\n",
              "       [2.27293588e-36],\n",
              "       [1.51043936e-35],\n",
              "       [1.82500431e-36],\n",
              "       [5.05634493e-37],\n",
              "       [9.99684172e-37],\n",
              "       [6.03150966e-37],\n",
              "       [9.35816046e-36],\n",
              "       [2.42675621e-36],\n",
              "       [2.02466275e-36],\n",
              "       [9.75908375e-37],\n",
              "       [2.19904203e-36],\n",
              "       [9.77216421e-36],\n",
              "       [5.26129773e-37],\n",
              "       [3.74609437e-36],\n",
              "       [1.29879599e-35],\n",
              "       [4.14037034e-35],\n",
              "       [2.60096815e-36],\n",
              "       [7.10103194e-36],\n",
              "       [4.79597247e-36],\n",
              "       [1.40171086e-35],\n",
              "       [1.91900457e-36],\n",
              "       [3.04319405e-37],\n",
              "       [1.63955389e-35],\n",
              "       [8.30144098e-36],\n",
              "       [1.94314314e-37],\n",
              "       [9.67077567e-36],\n",
              "       [7.01988581e-35],\n",
              "       [9.77216421e-36],\n",
              "       [2.64901193e-36],\n",
              "       [1.17682503e-35],\n",
              "       [9.77358048e-36],\n",
              "       [9.77358048e-36],\n",
              "       [9.99650326e-36],\n",
              "       [1.16714650e-34],\n",
              "       [8.56757092e-36],\n",
              "       [5.31177694e-36],\n",
              "       [4.53628809e-35],\n",
              "       [9.77358048e-36],\n",
              "       [1.43298214e-35],\n",
              "       [9.77358048e-36],\n",
              "       [6.34749865e-37],\n",
              "       [9.77358048e-36],\n",
              "       [1.23655247e-35],\n",
              "       [7.71419029e-35],\n",
              "       [9.57609524e-37],\n",
              "       [4.73052389e-36],\n",
              "       [6.27041719e-36],\n",
              "       [2.09272899e-36]], dtype=float32)"
            ]
          },
          "metadata": {},
          "execution_count": 60
        }
      ]
    },
    {
      "cell_type": "code",
      "metadata": {
        "colab": {
          "base_uri": "https://localhost:8080/"
        },
        "id": "-aErgi4FTCLe",
        "outputId": "73e2feaa-9f67-481d-80e3-097d14034d1d"
      },
      "source": [
        "X_new = X_test[:10]\n",
        "y_proba = model.predict(X_new)\n",
        "y_proba.round(2)"
      ],
      "execution_count": 99,
      "outputs": [
        {
          "output_type": "execute_result",
          "data": {
            "text/plain": [
              "array([[0., 1.],\n",
              "       [1., 0.],\n",
              "       [1., 0.],\n",
              "       [1., 0.],\n",
              "       [0., 1.],\n",
              "       [1., 0.],\n",
              "       [1., 0.],\n",
              "       [1., 0.],\n",
              "       [0., 1.],\n",
              "       [1., 0.]], dtype=float32)"
            ]
          },
          "metadata": {},
          "execution_count": 99
        }
      ]
    },
    {
      "cell_type": "markdown",
      "metadata": {
        "id": "07GpLzYsTCLe"
      },
      "source": [
        "**Warning**: `model.predict_classes(X_new)` is deprecated. It is replaced with `np.argmax(model.predict(X_new), axis=-1)`."
      ]
    },
    {
      "cell_type": "code",
      "metadata": {
        "colab": {
          "base_uri": "https://localhost:8080/"
        },
        "id": "AQIArjh1TCLe",
        "outputId": "fd4df3e6-a1d4-4613-bedf-79d6cff3df08"
      },
      "source": [
        "#y_pred = model.predict_classes(X_new) # deprecated\n",
        "y_pred = np.argmax(model.predict(X_new), axis=-1)\n",
        "y_pred"
      ],
      "execution_count": 96,
      "outputs": [
        {
          "output_type": "execute_result",
          "data": {
            "text/plain": [
              "array([1, 0, 0])"
            ]
          },
          "metadata": {},
          "execution_count": 96
        }
      ]
    },
    {
      "cell_type": "code",
      "metadata": {
        "colab": {
          "base_uri": "https://localhost:8080/"
        },
        "id": "JHoN-zY0TCLe",
        "outputId": "8daed611-a99f-474f-ffbf-017aa85240b1"
      },
      "source": [
        "np.array(class_names)[y_pred]"
      ],
      "execution_count": 97,
      "outputs": [
        {
          "output_type": "execute_result",
          "data": {
            "text/plain": [
              "array(['Rest', 'Control', 'Control'], dtype='<U7')"
            ]
          },
          "metadata": {},
          "execution_count": 97
        }
      ]
    },
    {
      "cell_type": "code",
      "metadata": {
        "colab": {
          "base_uri": "https://localhost:8080/"
        },
        "id": "r_RV5tCeTCLe",
        "outputId": "9672e029-c219-4339-bcf5-69f920c35c6e"
      },
      "source": [
        "y_new = y_test[:3]\n",
        "y_new"
      ],
      "execution_count": 98,
      "outputs": [
        {
          "output_type": "execute_result",
          "data": {
            "text/plain": [
              "array([0, 0, 0])"
            ]
          },
          "metadata": {},
          "execution_count": 98
        }
      ]
    },
    {
      "cell_type": "code",
      "metadata": {
        "id": "kfvS7XbBTCLe",
        "outputId": "5a32259e-b342-4dee-e78d-7f65ed761ff6"
      },
      "source": [
        "plt.figure(figsize=(7.2, 2.4))\n",
        "for index, image in enumerate(X_new):\n",
        "    plt.subplot(1, 3, index + 1)\n",
        "    plt.imshow(image, cmap=\"binary\", interpolation=\"nearest\")\n",
        "    plt.axis('off')\n",
        "    plt.title(class_names[y_test[index]], fontsize=12)\n",
        "plt.subplots_adjust(wspace=0.2, hspace=0.5)\n",
        "save_fig('fashion_mnist_images_plot', tight_layout=False)\n",
        "plt.show()"
      ],
      "execution_count": null,
      "outputs": [
        {
          "name": "stdout",
          "output_type": "stream",
          "text": [
            "Saving figure fashion_mnist_images_plot\n"
          ]
        },
        {
          "data": {
            "image/png": "[encoded data removed]",
            "text/plain": [
              "<Figure size 518.4x172.8 with 3 Axes>"
            ]
          },
          "metadata": {
            "needs_background": "light"
          },
          "output_type": "display_data"
        }
      ]
    },
    {
      "cell_type": "markdown",
      "metadata": {
        "id": "T-njGzdlTCLe"
      },
      "source": [
        "# Regression MLP"
      ]
    },
    {
      "cell_type": "markdown",
      "metadata": {
        "id": "mAEz87RsTCLe"
      },
      "source": [
        "Let's load, split and scale the California housing dataset (the original one, not the modified one as in chapter 2):"
      ]
    },
    {
      "cell_type": "code",
      "metadata": {
        "id": "1iIVz-adTCLe"
      },
      "source": [
        "from sklearn.datasets import fetch_california_housing\n",
        "from sklearn.model_selection import train_test_split\n",
        "from sklearn.preprocessing import StandardScaler\n",
        "\n",
        "housing = fetch_california_housing()\n",
        "\n",
        "X_train_full, X_test, y_train_full, y_test = train_test_split(housing.data, housing.target, random_state=42)\n",
        "X_train, X_valid, y_train, y_valid = train_test_split(X_train_full, y_train_full, random_state=42)\n",
        "\n",
        "scaler = StandardScaler()\n",
        "X_train = scaler.fit_transform(X_train)\n",
        "X_valid = scaler.transform(X_valid)\n",
        "X_test = scaler.transform(X_test)"
      ],
      "execution_count": null,
      "outputs": []
    },
    {
      "cell_type": "code",
      "metadata": {
        "id": "rV6Hw4g2TCLf"
      },
      "source": [
        "np.random.seed(42)\n",
        "tf.random.set_seed(42)"
      ],
      "execution_count": null,
      "outputs": []
    },
    {
      "cell_type": "code",
      "metadata": {
        "id": "0B4DfQkiTCLf",
        "outputId": "1e1dec37-0602-4e1a-995b-17f46293354e"
      },
      "source": [
        "model = keras.models.Sequential([\n",
        "    keras.layers.Dense(30, activation=\"relu\", input_shape=X_train.shape[1:]),\n",
        "    keras.layers.Dense(1)\n",
        "])\n",
        "model.compile(loss=\"mean_squared_error\", optimizer=keras.optimizers.SGD(lr=1e-3))\n",
        "history = model.fit(X_train, y_train, epochs=20, validation_data=(X_valid, y_valid))\n",
        "mse_test = model.evaluate(X_test, y_test)\n",
        "X_new = X_test[:3]\n",
        "y_pred = model.predict(X_new)"
      ],
      "execution_count": null,
      "outputs": [
        {
          "name": "stdout",
          "output_type": "stream",
          "text": [
            "Epoch 1/20\n",
            "363/363 [==============================] - 0s 893us/step - loss: 2.2656 - val_loss: 0.8560\n",
            "Epoch 2/20\n",
            "363/363 [==============================] - 0s 670us/step - loss: 0.7413 - val_loss: 0.6531\n",
            "Epoch 3/20\n",
            "363/363 [==============================] - 0s 661us/step - loss: 0.6604 - val_loss: 0.6099\n",
            "Epoch 4/20\n",
            "363/363 [==============================] - 0s 640us/step - loss: 0.6245 - val_loss: 0.5658\n",
            "Epoch 5/20\n",
            "363/363 [==============================] - 0s 688us/step - loss: 0.5770 - val_loss: 0.5355\n",
            "Epoch 6/20\n",
            "363/363 [==============================] - 0s 668us/step - loss: 0.5609 - val_loss: 0.5173\n",
            "Epoch 7/20\n",
            "363/363 [==============================] - 0s 667us/step - loss: 0.5500 - val_loss: 0.5081\n",
            "Epoch 8/20\n",
            "363/363 [==============================] - 0s 647us/step - loss: 0.5200 - val_loss: 0.4799\n",
            "Epoch 9/20\n",
            "363/363 [==============================] - 0s 683us/step - loss: 0.5051 - val_loss: 0.4690\n",
            "Epoch 10/20\n",
            "363/363 [==============================] - 0s 679us/step - loss: 0.4910 - val_loss: 0.4656\n",
            "Epoch 11/20\n",
            "363/363 [==============================] - 0s 643us/step - loss: 0.4794 - val_loss: 0.4482\n",
            "Epoch 12/20\n",
            "363/363 [==============================] - 0s 644us/step - loss: 0.4656 - val_loss: 0.4479\n",
            "Epoch 13/20\n",
            "363/363 [==============================] - 0s 666us/step - loss: 0.4693 - val_loss: 0.4296\n",
            "Epoch 14/20\n",
            "363/363 [==============================] - 0s 655us/step - loss: 0.4537 - val_loss: 0.4233\n",
            "Epoch 15/20\n",
            "363/363 [==============================] - 0s 636us/step - loss: 0.4586 - val_loss: 0.4176\n",
            "Epoch 16/20\n",
            "363/363 [==============================] - 0s 646us/step - loss: 0.4612 - val_loss: 0.4123\n",
            "Epoch 17/20\n",
            "363/363 [==============================] - 0s 620us/step - loss: 0.4449 - val_loss: 0.4071\n",
            "Epoch 18/20\n",
            "363/363 [==============================] - 0s 675us/step - loss: 0.4407 - val_loss: 0.4037\n",
            "Epoch 19/20\n",
            "363/363 [==============================] - 0s 650us/step - loss: 0.4184 - val_loss: 0.4000\n",
            "Epoch 20/20\n",
            "363/363 [==============================] - 0s 646us/step - loss: 0.4128 - val_loss: 0.3969\n",
            "162/162 [==============================] - 0s 428us/step - loss: 0.4212\n"
          ]
        }
      ]
    },
    {
      "cell_type": "code",
      "metadata": {
        "id": "ubJ1YNmMTCLf",
        "outputId": "3934d831-096b-4a1b-d54d-4f2086833442"
      },
      "source": [
        "plt.plot(pd.DataFrame(history.history))\n",
        "plt.grid(True)\n",
        "plt.gca().set_ylim(0, 1)\n",
        "plt.show()"
      ],
      "execution_count": null,
      "outputs": [
        {
          "data": {
            "image/png": "[encoded data removed]",
            "text/plain": [
              "<Figure size 432x288 with 1 Axes>"
            ]
          },
          "metadata": {
            "needs_background": "light"
          },
          "output_type": "display_data"
        }
      ]
    },
    {
      "cell_type": "code",
      "metadata": {
        "id": "UvpFjU6lTCLf",
        "outputId": "a0411e50-846c-44ec-b434-d2b2e19eb6f3"
      },
      "source": [
        "y_pred"
      ],
      "execution_count": null,
      "outputs": [
        {
          "data": {
            "text/plain": [
              "array([[0.3885664],\n",
              "       [1.6792021],\n",
              "       [3.1022797]], dtype=float32)"
            ]
          },
          "execution_count": 52,
          "metadata": {},
          "output_type": "execute_result"
        }
      ]
    },
    {
      "cell_type": "markdown",
      "metadata": {
        "id": "AIOIekjsTCLf"
      },
      "source": [
        "# Functional API"
      ]
    },
    {
      "cell_type": "markdown",
      "metadata": {
        "id": "3RgIb0mpTCLf"
      },
      "source": [
        "Not all neural network models are simply sequential. Some may have complex topologies. Some may have multiple inputs and/or multiple outputs. For example, a Wide & Deep neural network (see [paper](https://ai.google/research/pubs/pub45413)) connects all or part of the inputs directly to the output layer."
      ]
    },
    {
      "cell_type": "code",
      "metadata": {
        "id": "hW8zD1leTCLf"
      },
      "source": [
        "np.random.seed(42)\n",
        "tf.random.set_seed(42)"
      ],
      "execution_count": null,
      "outputs": []
    },
    {
      "cell_type": "code",
      "metadata": {
        "id": "f4suviqWTCLf"
      },
      "source": [
        "input_ = keras.layers.Input(shape=X_train.shape[1:])\n",
        "hidden1 = keras.layers.Dense(30, activation=\"relu\")(input_)\n",
        "hidden2 = keras.layers.Dense(30, activation=\"relu\")(hidden1)\n",
        "concat = keras.layers.concatenate([input_, hidden2])\n",
        "output = keras.layers.Dense(1)(concat)\n",
        "model = keras.models.Model(inputs=[input_], outputs=[output])"
      ],
      "execution_count": null,
      "outputs": []
    },
    {
      "cell_type": "code",
      "metadata": {
        "id": "5ZfGw1SVTCLf",
        "outputId": "8278bd66-8710-46e4-9bb1-39056dda8b0f"
      },
      "source": [
        "model.summary()"
      ],
      "execution_count": null,
      "outputs": [
        {
          "name": "stdout",
          "output_type": "stream",
          "text": [
            "Model: \"model\"\n",
            "__________________________________________________________________________________________________\n",
            "Layer (type)                    Output Shape         Param #     Connected to                     \n",
            "==================================================================================================\n",
            "input_1 (InputLayer)            [(None, 8)]          0                                            \n",
            "__________________________________________________________________________________________________\n",
            "dense_5 (Dense)                 (None, 30)           270         input_1[0][0]                    \n",
            "__________________________________________________________________________________________________\n",
            "dense_6 (Dense)                 (None, 30)           930         dense_5[0][0]                    \n",
            "__________________________________________________________________________________________________\n",
            "concatenate (Concatenate)       (None, 38)           0           input_1[0][0]                    \n",
            "                                                                 dense_6[0][0]                    \n",
            "__________________________________________________________________________________________________\n",
            "dense_7 (Dense)                 (None, 1)            39          concatenate[0][0]                \n",
            "==================================================================================================\n",
            "Total params: 1,239\n",
            "Trainable params: 1,239\n",
            "Non-trainable params: 0\n",
            "__________________________________________________________________________________________________\n"
          ]
        }
      ]
    },
    {
      "cell_type": "code",
      "metadata": {
        "id": "xULMJVNITCLf",
        "outputId": "68f53f0d-337a-470c-84d3-babfb32f02cb"
      },
      "source": [
        "model.compile(loss=\"mean_squared_error\", optimizer=keras.optimizers.SGD(lr=1e-3))\n",
        "history = model.fit(X_train, y_train, epochs=20,\n",
        "                    validation_data=(X_valid, y_valid))\n",
        "mse_test = model.evaluate(X_test, y_test)\n",
        "y_pred = model.predict(X_new)"
      ],
      "execution_count": null,
      "outputs": [
        {
          "name": "stdout",
          "output_type": "stream",
          "text": [
            "Epoch 1/20\n",
            "363/363 [==============================] - 1s 887us/step - loss: 1.9731 - val_loss: 3.3940\n",
            "Epoch 2/20\n",
            "363/363 [==============================] - 0s 683us/step - loss: 0.7638 - val_loss: 0.9360\n",
            "Epoch 3/20\n",
            "363/363 [==============================] - 0s 687us/step - loss: 0.6045 - val_loss: 0.5649\n",
            "Epoch 4/20\n",
            "363/363 [==============================] - 0s 709us/step - loss: 0.5862 - val_loss: 0.5712\n",
            "Epoch 5/20\n",
            "363/363 [==============================] - 0s 707us/step - loss: 0.5452 - val_loss: 0.5045\n",
            "Epoch 6/20\n",
            "363/363 [==============================] - 0s 672us/step - loss: 0.5243 - val_loss: 0.4831\n",
            "Epoch 7/20\n",
            "363/363 [==============================] - 0s 681us/step - loss: 0.5185 - val_loss: 0.4639\n",
            "Epoch 8/20\n",
            "363/363 [==============================] - 0s 700us/step - loss: 0.4947 - val_loss: 0.4638\n",
            "Epoch 9/20\n",
            "363/363 [==============================] - 0s 675us/step - loss: 0.4782 - val_loss: 0.4421\n",
            "Epoch 10/20\n",
            "363/363 [==============================] - 0s 693us/step - loss: 0.4708 - val_loss: 0.4313\n",
            "Epoch 11/20\n",
            "363/363 [==============================] - 0s 668us/step - loss: 0.4585 - val_loss: 0.4345\n",
            "Epoch 12/20\n",
            "363/363 [==============================] - 0s 686us/step - loss: 0.4481 - val_loss: 0.4168\n",
            "Epoch 13/20\n",
            "363/363 [==============================] - 0s 675us/step - loss: 0.4476 - val_loss: 0.4230\n",
            "Epoch 14/20\n",
            "363/363 [==============================] - 0s 681us/step - loss: 0.4361 - val_loss: 0.4047\n",
            "Epoch 15/20\n",
            "363/363 [==============================] - 0s 698us/step - loss: 0.4392 - val_loss: 0.4078\n",
            "Epoch 16/20\n",
            "363/363 [==============================] - 0s 682us/step - loss: 0.4420 - val_loss: 0.3938\n",
            "Epoch 17/20\n",
            "363/363 [==============================] - 0s 680us/step - loss: 0.4277 - val_loss: 0.3952\n",
            "Epoch 18/20\n",
            "363/363 [==============================] - 0s 671us/step - loss: 0.4216 - val_loss: 0.3860\n",
            "Epoch 19/20\n",
            "363/363 [==============================] - 0s 660us/step - loss: 0.4033 - val_loss: 0.3827\n",
            "Epoch 20/20\n",
            "363/363 [==============================] - 0s 662us/step - loss: 0.3939 - val_loss: 0.4054\n",
            "162/162 [==============================] - 0s 423us/step - loss: 0.4032\n"
          ]
        }
      ]
    },
    {
      "cell_type": "markdown",
      "metadata": {
        "id": "6Xd2BFZWTCLf"
      },
      "source": [
        "What if you want to send different subsets of input features through the wide or deep paths? We will send 5 features (features 0 to 4), and 6 through the deep path (features 2 to 7). Note that 3 features will go through both (features 2, 3 and 4)."
      ]
    },
    {
      "cell_type": "code",
      "metadata": {
        "id": "ciY8dv9lTCLf"
      },
      "source": [
        "np.random.seed(42)\n",
        "tf.random.set_seed(42)"
      ],
      "execution_count": null,
      "outputs": []
    },
    {
      "cell_type": "code",
      "metadata": {
        "id": "JmTd7ZX_TCLf"
      },
      "source": [
        "input_A = keras.layers.Input(shape=[5], name=\"wide_input\")\n",
        "input_B = keras.layers.Input(shape=[6], name=\"deep_input\")\n",
        "hidden1 = keras.layers.Dense(30, activation=\"relu\")(input_B)\n",
        "hidden2 = keras.layers.Dense(30, activation=\"relu\")(hidden1)\n",
        "concat = keras.layers.concatenate([input_A, hidden2])\n",
        "output = keras.layers.Dense(1, name=\"output\")(concat)\n",
        "model = keras.models.Model(inputs=[input_A, input_B], outputs=[output])"
      ],
      "execution_count": null,
      "outputs": []
    },
    {
      "cell_type": "code",
      "metadata": {
        "id": "FNfVehMUTCLf",
        "outputId": "93e2b57f-22d4-49bc-82b7-132fd273836d"
      },
      "source": [
        "model.compile(loss=\"mse\", optimizer=keras.optimizers.SGD(lr=1e-3))\n",
        "\n",
        "X_train_A, X_train_B = X_train[:, :5], X_train[:, 2:]\n",
        "X_valid_A, X_valid_B = X_valid[:, :5], X_valid[:, 2:]\n",
        "X_test_A, X_test_B = X_test[:, :5], X_test[:, 2:]\n",
        "X_new_A, X_new_B = X_test_A[:3], X_test_B[:3]\n",
        "\n",
        "history = model.fit((X_train_A, X_train_B), y_train, epochs=20,\n",
        "                    validation_data=((X_valid_A, X_valid_B), y_valid))\n",
        "mse_test = model.evaluate((X_test_A, X_test_B), y_test)\n",
        "y_pred = model.predict((X_new_A, X_new_B))"
      ],
      "execution_count": null,
      "outputs": [
        {
          "name": "stdout",
          "output_type": "stream",
          "text": [
            "Epoch 1/20\n",
            "363/363 [==============================] - 1s 934us/step - loss: 3.1941 - val_loss: 0.8072\n",
            "Epoch 2/20\n",
            "363/363 [==============================] - 0s 734us/step - loss: 0.7247 - val_loss: 0.6658\n",
            "Epoch 3/20\n",
            "363/363 [==============================] - 0s 719us/step - loss: 0.6176 - val_loss: 0.5687\n",
            "Epoch 4/20\n",
            "363/363 [==============================] - 0s 718us/step - loss: 0.5799 - val_loss: 0.5296\n",
            "Epoch 5/20\n",
            "363/363 [==============================] - 0s 689us/step - loss: 0.5409 - val_loss: 0.4993\n",
            "Epoch 6/20\n",
            "363/363 [==============================] - 0s 717us/step - loss: 0.5173 - val_loss: 0.4811\n",
            "Epoch 7/20\n",
            "363/363 [==============================] - 0s 708us/step - loss: 0.5186 - val_loss: 0.4696\n",
            "Epoch 8/20\n",
            "363/363 [==============================] - 0s 697us/step - loss: 0.4977 - val_loss: 0.4496\n",
            "Epoch 9/20\n",
            "363/363 [==============================] - 0s 713us/step - loss: 0.4765 - val_loss: 0.4404\n",
            "Epoch 10/20\n",
            "363/363 [==============================] - 0s 723us/step - loss: 0.4676 - val_loss: 0.4315\n",
            "Epoch 11/20\n",
            "363/363 [==============================] - 0s 713us/step - loss: 0.4574 - val_loss: 0.4268\n",
            "Epoch 12/20\n",
            "363/363 [==============================] - 0s 697us/step - loss: 0.4479 - val_loss: 0.4166\n",
            "Epoch 13/20\n",
            "363/363 [==============================] - 0s 710us/step - loss: 0.4487 - val_loss: 0.4125\n",
            "Epoch 14/20\n",
            "363/363 [==============================] - 0s 684us/step - loss: 0.4469 - val_loss: 0.4074\n",
            "Epoch 15/20\n",
            "363/363 [==============================] - 0s 738us/step - loss: 0.4460 - val_loss: 0.4044\n",
            "Epoch 16/20\n",
            "363/363 [==============================] - 0s 734us/step - loss: 0.4495 - val_loss: 0.4007\n",
            "Epoch 17/20\n",
            "363/363 [==============================] - 0s 698us/step - loss: 0.4378 - val_loss: 0.4013\n",
            "Epoch 18/20\n",
            "363/363 [==============================] - 0s 715us/step - loss: 0.4375 - val_loss: 0.3987\n",
            "Epoch 19/20\n",
            "363/363 [==============================] - 0s 733us/step - loss: 0.4151 - val_loss: 0.3934\n",
            "Epoch 20/20\n",
            "363/363 [==============================] - 0s 701us/step - loss: 0.4078 - val_loss: 0.4204\n",
            "162/162 [==============================] - 0s 447us/step - loss: 0.4219\n"
          ]
        }
      ]
    },
    {
      "cell_type": "markdown",
      "metadata": {
        "id": "UrvjUQ5ITCLg"
      },
      "source": [
        "Adding an auxiliary output for regularization:"
      ]
    },
    {
      "cell_type": "code",
      "metadata": {
        "id": "mzQQ3e4qTCLg"
      },
      "source": [
        "np.random.seed(42)\n",
        "tf.random.set_seed(42)"
      ],
      "execution_count": null,
      "outputs": []
    },
    {
      "cell_type": "code",
      "metadata": {
        "id": "U5jBt8o6TCLg"
      },
      "source": [
        "input_A = keras.layers.Input(shape=[5], name=\"wide_input\")\n",
        "input_B = keras.layers.Input(shape=[6], name=\"deep_input\")\n",
        "hidden1 = keras.layers.Dense(30, activation=\"relu\")(input_B)\n",
        "hidden2 = keras.layers.Dense(30, activation=\"relu\")(hidden1)\n",
        "concat = keras.layers.concatenate([input_A, hidden2])\n",
        "output = keras.layers.Dense(1, name=\"main_output\")(concat)\n",
        "aux_output = keras.layers.Dense(1, name=\"aux_output\")(hidden2)\n",
        "model = keras.models.Model(inputs=[input_A, input_B],\n",
        "                           outputs=[output, aux_output])"
      ],
      "execution_count": null,
      "outputs": []
    },
    {
      "cell_type": "code",
      "metadata": {
        "id": "oMYGQcC_TCLg"
      },
      "source": [
        "model.compile(loss=[\"mse\", \"mse\"], loss_weights=[0.9, 0.1], optimizer=keras.optimizers.SGD(lr=1e-3))"
      ],
      "execution_count": null,
      "outputs": []
    },
    {
      "cell_type": "code",
      "metadata": {
        "id": "kR7ZyyIMTCLg",
        "outputId": "91c8321d-c771-4e20-a470-4f74ea14ed2c"
      },
      "source": [
        "history = model.fit([X_train_A, X_train_B], [y_train, y_train], epochs=20,\n",
        "                    validation_data=([X_valid_A, X_valid_B], [y_valid, y_valid]))"
      ],
      "execution_count": null,
      "outputs": [
        {
          "name": "stdout",
          "output_type": "stream",
          "text": [
            "Epoch 1/20\n",
            "363/363 [==============================] - 1s 1ms/step - loss: 3.4633 - main_output_loss: 3.3289 - aux_output_loss: 4.6732 - val_loss: 1.6233 - val_main_output_loss: 0.8468 - val_aux_output_loss: 8.6117\n",
            "Epoch 2/20\n",
            "363/363 [==============================] - 0s 879us/step - loss: 0.9807 - main_output_loss: 0.7503 - aux_output_loss: 3.0537 - val_loss: 1.5163 - val_main_output_loss: 0.6836 - val_aux_output_loss: 9.0109\n",
            "Epoch 3/20\n",
            "363/363 [==============================] - 0s 890us/step - loss: 0.7742 - main_output_loss: 0.6290 - aux_output_loss: 2.0810 - val_loss: 1.4639 - val_main_output_loss: 0.6229 - val_aux_output_loss: 9.0326\n",
            "Epoch 4/20\n",
            "363/363 [==============================] - 0s 847us/step - loss: 0.6952 - main_output_loss: 0.5897 - aux_output_loss: 1.6449 - val_loss: 1.3388 - val_main_output_loss: 0.5481 - val_aux_output_loss: 8.4552\n",
            "Epoch 5/20\n",
            "363/363 [==============================] - 0s 902us/step - loss: 0.6469 - main_output_loss: 0.5508 - aux_output_loss: 1.5118 - val_loss: 1.2177 - val_main_output_loss: 0.5194 - val_aux_output_loss: 7.5030\n",
            "Epoch 6/20\n",
            "363/363 [==============================] - 0s 867us/step - loss: 0.6120 - main_output_loss: 0.5251 - aux_output_loss: 1.3943 - val_loss: 1.0935 - val_main_output_loss: 0.5106 - val_aux_output_loss: 6.3396\n",
            "Epoch 7/20\n",
            "363/363 [==============================] - 0s 864us/step - loss: 0.6114 - main_output_loss: 0.5256 - aux_output_loss: 1.3833 - val_loss: 0.9918 - val_main_output_loss: 0.5115 - val_aux_output_loss: 5.3151\n",
            "Epoch 8/20\n",
            "363/363 [==============================] - 0s 850us/step - loss: 0.5765 - main_output_loss: 0.5024 - aux_output_loss: 1.2439 - val_loss: 0.8733 - val_main_output_loss: 0.4733 - val_aux_output_loss: 4.4740\n",
            "Epoch 9/20\n",
            "363/363 [==============================] - 0s 882us/step - loss: 0.5535 - main_output_loss: 0.4811 - aux_output_loss: 1.2057 - val_loss: 0.7832 - val_main_output_loss: 0.4555 - val_aux_output_loss: 3.7323\n",
            "Epoch 10/20\n",
            "363/363 [==============================] - 0s 846us/step - loss: 0.5456 - main_output_loss: 0.4708 - aux_output_loss: 1.2189 - val_loss: 0.7170 - val_main_output_loss: 0.4604 - val_aux_output_loss: 3.0262\n",
            "Epoch 11/20\n",
            "363/363 [==============================] - 0s 875us/step - loss: 0.5297 - main_output_loss: 0.4587 - aux_output_loss: 1.1684 - val_loss: 0.6510 - val_main_output_loss: 0.4293 - val_aux_output_loss: 2.6468\n",
            "Epoch 12/20\n",
            "363/363 [==============================] - 0s 879us/step - loss: 0.5181 - main_output_loss: 0.4501 - aux_output_loss: 1.1305 - val_loss: 0.6051 - val_main_output_loss: 0.4310 - val_aux_output_loss: 2.1722\n",
            "Epoch 13/20\n",
            "363/363 [==============================] - 0s 879us/step - loss: 0.5100 - main_output_loss: 0.4487 - aux_output_loss: 1.0620 - val_loss: 0.5644 - val_main_output_loss: 0.4161 - val_aux_output_loss: 1.8992\n",
            "Epoch 14/20\n",
            "363/363 [==============================] - 0s 884us/step - loss: 0.5064 - main_output_loss: 0.4459 - aux_output_loss: 1.0503 - val_loss: 0.5354 - val_main_output_loss: 0.4119 - val_aux_output_loss: 1.6466\n",
            "Epoch 15/20\n",
            "363/363 [==============================] - 0s 878us/step - loss: 0.5027 - main_output_loss: 0.4452 - aux_output_loss: 1.0207 - val_loss: 0.5124 - val_main_output_loss: 0.4047 - val_aux_output_loss: 1.4812\n",
            "Epoch 16/20\n",
            "363/363 [==============================] - 0s 864us/step - loss: 0.5057 - main_output_loss: 0.4480 - aux_output_loss: 1.0249 - val_loss: 0.4934 - val_main_output_loss: 0.4034 - val_aux_output_loss: 1.3035\n",
            "Epoch 17/20\n",
            "363/363 [==============================] - 0s 855us/step - loss: 0.4931 - main_output_loss: 0.4360 - aux_output_loss: 1.0075 - val_loss: 0.4801 - val_main_output_loss: 0.3984 - val_aux_output_loss: 1.2150\n",
            "Epoch 18/20\n",
            "363/363 [==============================] - 0s 863us/step - loss: 0.4922 - main_output_loss: 0.4352 - aux_output_loss: 1.0053 - val_loss: 0.4694 - val_main_output_loss: 0.3962 - val_aux_output_loss: 1.1279\n",
            "Epoch 19/20\n",
            "363/363 [==============================] - 0s 895us/step - loss: 0.4658 - main_output_loss: 0.4139 - aux_output_loss: 0.9323 - val_loss: 0.4580 - val_main_output_loss: 0.3936 - val_aux_output_loss: 1.0372\n",
            "Epoch 20/20\n",
            "363/363 [==============================] - 0s 870us/step - loss: 0.4589 - main_output_loss: 0.4072 - aux_output_loss: 0.9243 - val_loss: 0.4655 - val_main_output_loss: 0.4048 - val_aux_output_loss: 1.0118\n"
          ]
        }
      ]
    },
    {
      "cell_type": "code",
      "metadata": {
        "id": "xn_VLHbITCLg",
        "outputId": "e176a785-867b-4e6a-81da-9c4c059c35c3"
      },
      "source": [
        "total_loss, main_loss, aux_loss = model.evaluate(\n",
        "    [X_test_A, X_test_B], [y_test, y_test])\n",
        "y_pred_main, y_pred_aux = model.predict([X_new_A, X_new_B])"
      ],
      "execution_count": null,
      "outputs": [
        {
          "name": "stdout",
          "output_type": "stream",
          "text": [
            "162/162 [==============================] - 0s 546us/step - loss: 0.4668 - main_output_loss: 0.4178 - aux_output_loss: 0.9082\n",
            "WARNING:tensorflow:5 out of the last 6 calls to <function Model.make_predict_function.<locals>.predict_function at 0x7fd97a1a24d0> triggered tf.function retracing. Tracing is expensive and the excessive number of tracings could be due to (1) creating @tf.function repeatedly in a loop, (2) passing tensors with different shapes, (3) passing Python objects instead of tensors. For (1), please define your @tf.function outside of the loop. For (2), @tf.function has experimental_relax_shapes=True option that relaxes argument shapes that can avoid unnecessary retracing. For (3), please refer to https://www.tensorflow.org/guide/function#controlling_retracing and https://www.tensorflow.org/api_docs/python/tf/function for  more details.\n"
          ]
        }
      ]
    },
    {
      "cell_type": "markdown",
      "metadata": {
        "id": "IlkdY1v_TCLg"
      },
      "source": [
        "# The subclassing API"
      ]
    },
    {
      "cell_type": "code",
      "metadata": {
        "id": "frxwTARaTCLg"
      },
      "source": [
        "class WideAndDeepModel(keras.models.Model):\n",
        "    def __init__(self, units=30, activation=\"relu\", **kwargs):\n",
        "        super().__init__(**kwargs)\n",
        "        self.hidden1 = keras.layers.Dense(units, activation=activation)\n",
        "        self.hidden2 = keras.layers.Dense(units, activation=activation)\n",
        "        self.main_output = keras.layers.Dense(1)\n",
        "        self.aux_output = keras.layers.Dense(1)\n",
        "        \n",
        "    def call(self, inputs):\n",
        "        input_A, input_B = inputs\n",
        "        hidden1 = self.hidden1(input_B)\n",
        "        hidden2 = self.hidden2(hidden1)\n",
        "        concat = keras.layers.concatenate([input_A, hidden2])\n",
        "        main_output = self.main_output(concat)\n",
        "        aux_output = self.aux_output(hidden2)\n",
        "        return main_output, aux_output\n",
        "\n",
        "model = WideAndDeepModel(30, activation=\"relu\")"
      ],
      "execution_count": null,
      "outputs": []
    },
    {
      "cell_type": "code",
      "metadata": {
        "id": "LGMaYwCtTCLg",
        "outputId": "dcd9edbc-7dcf-4f3a-af9e-7abc77c8bf14"
      },
      "source": [
        "model.compile(loss=\"mse\", loss_weights=[0.9, 0.1], optimizer=keras.optimizers.SGD(lr=1e-3))\n",
        "history = model.fit((X_train_A, X_train_B), (y_train, y_train), epochs=10,\n",
        "                    validation_data=((X_valid_A, X_valid_B), (y_valid, y_valid)))\n",
        "total_loss, main_loss, aux_loss = model.evaluate((X_test_A, X_test_B), (y_test, y_test))\n",
        "y_pred_main, y_pred_aux = model.predict((X_new_A, X_new_B))"
      ],
      "execution_count": null,
      "outputs": [
        {
          "name": "stdout",
          "output_type": "stream",
          "text": [
            "Epoch 1/10\n",
            "363/363 [==============================] - 1s 1ms/step - loss: 3.3855 - output_1_loss: 3.3304 - output_2_loss: 3.8821 - val_loss: 2.1435 - val_output_1_loss: 1.1581 - val_output_2_loss: 11.0117\n",
            "Epoch 2/10\n",
            "363/363 [==============================] - 0s 852us/step - loss: 1.0790 - output_1_loss: 0.9329 - output_2_loss: 2.3942 - val_loss: 1.7567 - val_output_1_loss: 0.8205 - val_output_2_loss: 10.1825\n",
            "Epoch 3/10\n",
            "363/363 [==============================] - 0s 885us/step - loss: 0.8644 - output_1_loss: 0.7583 - output_2_loss: 1.8194 - val_loss: 1.5664 - val_output_1_loss: 0.7913 - val_output_2_loss: 8.5419\n",
            "Epoch 4/10\n",
            "363/363 [==============================] - 0s 863us/step - loss: 0.7850 - output_1_loss: 0.6979 - output_2_loss: 1.5689 - val_loss: 1.3088 - val_output_1_loss: 0.6549 - val_output_2_loss: 7.1933\n",
            "Epoch 5/10\n",
            "363/363 [==============================] - 0s 843us/step - loss: 0.7294 - output_1_loss: 0.6499 - output_2_loss: 1.4452 - val_loss: 1.1357 - val_output_1_loss: 0.5964 - val_output_2_loss: 5.9898\n",
            "Epoch 6/10\n",
            "363/363 [==============================] - 0s 837us/step - loss: 0.6880 - output_1_loss: 0.6092 - output_2_loss: 1.3974 - val_loss: 1.0036 - val_output_1_loss: 0.5937 - val_output_2_loss: 4.6933\n",
            "Epoch 7/10\n",
            "363/363 [==============================] - 0s 866us/step - loss: 0.6918 - output_1_loss: 0.6143 - output_2_loss: 1.3899 - val_loss: 0.8904 - val_output_1_loss: 0.5591 - val_output_2_loss: 3.8714\n",
            "Epoch 8/10\n",
            "363/363 [==============================] - 0s 840us/step - loss: 0.6504 - output_1_loss: 0.5805 - output_2_loss: 1.2797 - val_loss: 0.8009 - val_output_1_loss: 0.5243 - val_output_2_loss: 3.2903\n",
            "Epoch 9/10\n",
            "363/363 [==============================] - 0s 842us/step - loss: 0.6270 - output_1_loss: 0.5574 - output_2_loss: 1.2533 - val_loss: 0.7357 - val_output_1_loss: 0.5144 - val_output_2_loss: 2.7275\n",
            "Epoch 10/10\n",
            "363/363 [==============================] - 0s 863us/step - loss: 0.6160 - output_1_loss: 0.5456 - output_2_loss: 1.2495 - val_loss: 0.6849 - val_output_1_loss: 0.5014 - val_output_2_loss: 2.3370\n",
            "162/162 [==============================] - 0s 546us/step - loss: 0.5841 - output_1_loss: 0.5188 - output_2_loss: 1.1722\n",
            "WARNING:tensorflow:6 out of the last 7 calls to <function Model.make_predict_function.<locals>.predict_function at 0x7fd9725c2320> triggered tf.function retracing. Tracing is expensive and the excessive number of tracings could be due to (1) creating @tf.function repeatedly in a loop, (2) passing tensors with different shapes, (3) passing Python objects instead of tensors. For (1), please define your @tf.function outside of the loop. For (2), @tf.function has experimental_relax_shapes=True option that relaxes argument shapes that can avoid unnecessary retracing. For (3), please refer to https://www.tensorflow.org/guide/function#controlling_retracing and https://www.tensorflow.org/api_docs/python/tf/function for  more details.\n"
          ]
        }
      ]
    },
    {
      "cell_type": "markdown",
      "metadata": {
        "id": "xpqfbNYTTCLg"
      },
      "source": [
        "# Saving and Restoring"
      ]
    },
    {
      "cell_type": "code",
      "metadata": {
        "id": "fxoQiJq5TCLg"
      },
      "source": [
        "np.random.seed(42)\n",
        "tf.random.set_seed(42)"
      ],
      "execution_count": null,
      "outputs": []
    },
    {
      "cell_type": "code",
      "metadata": {
        "id": "EP2BFDr8TCLg"
      },
      "source": [
        "model = keras.models.Sequential([\n",
        "    keras.layers.Dense(30, activation=\"relu\", input_shape=[8]),\n",
        "    keras.layers.Dense(30, activation=\"relu\"),\n",
        "    keras.layers.Dense(1)\n",
        "])    "
      ],
      "execution_count": null,
      "outputs": []
    },
    {
      "cell_type": "code",
      "metadata": {
        "id": "_X2lO1zJTCLg",
        "outputId": "1e2337ef-471e-4f49-a24b-ae1763de1e9d"
      },
      "source": [
        "model.compile(loss=\"mse\", optimizer=keras.optimizers.SGD(lr=1e-3))\n",
        "history = model.fit(X_train, y_train, epochs=10, validation_data=(X_valid, y_valid))\n",
        "mse_test = model.evaluate(X_test, y_test)"
      ],
      "execution_count": null,
      "outputs": [
        {
          "name": "stdout",
          "output_type": "stream",
          "text": [
            "Epoch 1/10\n",
            "363/363 [==============================] - 0s 882us/step - loss: 3.3697 - val_loss: 0.7126\n",
            "Epoch 2/10\n",
            "363/363 [==============================] - 0s 646us/step - loss: 0.6964 - val_loss: 0.6880\n",
            "Epoch 3/10\n",
            "363/363 [==============================] - 0s 658us/step - loss: 0.6167 - val_loss: 0.5803\n",
            "Epoch 4/10\n",
            "363/363 [==============================] - 0s 653us/step - loss: 0.5846 - val_loss: 0.5166\n",
            "Epoch 5/10\n",
            "363/363 [==============================] - 0s 649us/step - loss: 0.5321 - val_loss: 0.4895\n",
            "Epoch 6/10\n",
            "363/363 [==============================] - 0s 664us/step - loss: 0.5083 - val_loss: 0.4951\n",
            "Epoch 7/10\n",
            "363/363 [==============================] - 0s 677us/step - loss: 0.5044 - val_loss: 0.4861\n",
            "Epoch 8/10\n",
            "363/363 [==============================] - 0s 649us/step - loss: 0.4813 - val_loss: 0.4554\n",
            "Epoch 9/10\n",
            "363/363 [==============================] - 0s 676us/step - loss: 0.4627 - val_loss: 0.4413\n",
            "Epoch 10/10\n",
            "363/363 [==============================] - 0s 688us/step - loss: 0.4549 - val_loss: 0.4379\n",
            "162/162 [==============================] - 0s 497us/step - loss: 0.4382\n"
          ]
        }
      ]
    },
    {
      "cell_type": "code",
      "metadata": {
        "id": "2bwgsfy8TCLg"
      },
      "source": [
        "model.save(\"my_keras_model.h5\")"
      ],
      "execution_count": null,
      "outputs": []
    },
    {
      "cell_type": "code",
      "metadata": {
        "id": "xlcLBQaJTCLh"
      },
      "source": [
        "model = keras.models.load_model(\"my_keras_model.h5\")"
      ],
      "execution_count": null,
      "outputs": []
    },
    {
      "cell_type": "code",
      "metadata": {
        "id": "5-t3MGjlTCLh",
        "outputId": "a7ad6d42-d38a-49f0-ea24-eaf582f815c2"
      },
      "source": [
        "model.predict(X_new)"
      ],
      "execution_count": null,
      "outputs": [
        {
          "name": "stdout",
          "output_type": "stream",
          "text": [
            "WARNING:tensorflow:7 out of the last 8 calls to <function Model.make_predict_function.<locals>.predict_function at 0x7fd9725c28c0> triggered tf.function retracing. Tracing is expensive and the excessive number of tracings could be due to (1) creating @tf.function repeatedly in a loop, (2) passing tensors with different shapes, (3) passing Python objects instead of tensors. For (1), please define your @tf.function outside of the loop. For (2), @tf.function has experimental_relax_shapes=True option that relaxes argument shapes that can avoid unnecessary retracing. For (3), please refer to https://www.tensorflow.org/guide/function#controlling_retracing and https://www.tensorflow.org/api_docs/python/tf/function for  more details.\n"
          ]
        },
        {
          "data": {
            "text/plain": [
              "array([[0.5400236],\n",
              "       [1.6505969],\n",
              "       [3.0098243]], dtype=float32)"
            ]
          },
          "execution_count": 73,
          "metadata": {},
          "output_type": "execute_result"
        }
      ]
    },
    {
      "cell_type": "code",
      "metadata": {
        "id": "qAG2Ej6DTCLh"
      },
      "source": [
        "model.save_weights(\"my_keras_weights.ckpt\")"
      ],
      "execution_count": null,
      "outputs": []
    },
    {
      "cell_type": "code",
      "metadata": {
        "id": "6_ZIen8rTCLh",
        "outputId": "6dc86d4f-3913-4d39-cf79-409469d90f11"
      },
      "source": [
        "model.load_weights(\"my_keras_weights.ckpt\")"
      ],
      "execution_count": null,
      "outputs": [
        {
          "data": {
            "text/plain": [
              "<tensorflow.python.training.tracking.util.CheckpointLoadStatus at 0x7fd9890c2990>"
            ]
          },
          "execution_count": 75,
          "metadata": {},
          "output_type": "execute_result"
        }
      ]
    },
    {
      "cell_type": "markdown",
      "metadata": {
        "id": "IBElCBaKTCLh"
      },
      "source": [
        "# Using Callbacks during Training"
      ]
    },
    {
      "cell_type": "code",
      "metadata": {
        "id": "6wtF5HqhTCLh"
      },
      "source": [
        "keras.backend.clear_session()\n",
        "np.random.seed(42)\n",
        "tf.random.set_seed(42)"
      ],
      "execution_count": null,
      "outputs": []
    },
    {
      "cell_type": "code",
      "metadata": {
        "id": "63hdquoOTCLh"
      },
      "source": [
        "model = keras.models.Sequential([\n",
        "    keras.layers.Dense(30, activation=\"relu\", input_shape=[8]),\n",
        "    keras.layers.Dense(30, activation=\"relu\"),\n",
        "    keras.layers.Dense(1)\n",
        "])    "
      ],
      "execution_count": null,
      "outputs": []
    },
    {
      "cell_type": "code",
      "metadata": {
        "id": "NBSeFHbfTCLh",
        "outputId": "f1c5d8b9-f328-4dd9-bf4c-84b748ff10a1"
      },
      "source": [
        "model.compile(loss=\"mse\", optimizer=keras.optimizers.SGD(lr=1e-3))\n",
        "checkpoint_cb = keras.callbacks.ModelCheckpoint(\"my_keras_model.h5\", save_best_only=True)\n",
        "history = model.fit(X_train, y_train, epochs=10,\n",
        "                    validation_data=(X_valid, y_valid),\n",
        "                    callbacks=[checkpoint_cb])\n",
        "model = keras.models.load_model(\"my_keras_model.h5\") # rollback to best model\n",
        "mse_test = model.evaluate(X_test, y_test)"
      ],
      "execution_count": null,
      "outputs": [
        {
          "name": "stdout",
          "output_type": "stream",
          "text": [
            "Epoch 1/10\n",
            "363/363 [==============================] - 0s 846us/step - loss: 3.3697 - val_loss: 0.7126\n",
            "Epoch 2/10\n",
            "363/363 [==============================] - 0s 672us/step - loss: 0.6964 - val_loss: 0.6880\n",
            "Epoch 3/10\n",
            "363/363 [==============================] - 0s 658us/step - loss: 0.6167 - val_loss: 0.5803\n",
            "Epoch 4/10\n",
            "363/363 [==============================] - 0s 651us/step - loss: 0.5846 - val_loss: 0.5166\n",
            "Epoch 5/10\n",
            "363/363 [==============================] - 0s 670us/step - loss: 0.5321 - val_loss: 0.4895\n",
            "Epoch 6/10\n",
            "363/363 [==============================] - 0s 658us/step - loss: 0.5083 - val_loss: 0.4951\n",
            "Epoch 7/10\n",
            "363/363 [==============================] - 0s 682us/step - loss: 0.5044 - val_loss: 0.4861\n",
            "Epoch 8/10\n",
            "363/363 [==============================] - 0s 657us/step - loss: 0.4813 - val_loss: 0.4554\n",
            "Epoch 9/10\n",
            "363/363 [==============================] - 0s 672us/step - loss: 0.4627 - val_loss: 0.4413\n",
            "Epoch 10/10\n",
            "363/363 [==============================] - 0s 655us/step - loss: 0.4549 - val_loss: 0.4379\n",
            "162/162 [==============================] - 0s 460us/step - loss: 0.4382\n"
          ]
        }
      ]
    },
    {
      "cell_type": "code",
      "metadata": {
        "id": "J8EolXEiTCLh",
        "outputId": "f193a36b-21d9-490f-938c-18c2fc078116"
      },
      "source": [
        "model.compile(loss=\"mse\", optimizer=keras.optimizers.SGD(lr=1e-3))\n",
        "early_stopping_cb = keras.callbacks.EarlyStopping(patience=10,\n",
        "                                                  restore_best_weights=True)\n",
        "history = model.fit(X_train, y_train, epochs=100,\n",
        "                    validation_data=(X_valid, y_valid),\n",
        "                    callbacks=[checkpoint_cb, early_stopping_cb])\n",
        "mse_test = model.evaluate(X_test, y_test)"
      ],
      "execution_count": null,
      "outputs": [
        {
          "name": "stdout",
          "output_type": "stream",
          "text": [
            "Epoch 1/100\n",
            "363/363 [==============================] - 0s 878us/step - loss: 0.4578 - val_loss: 0.4110\n",
            "Epoch 2/100\n",
            "363/363 [==============================] - 0s 702us/step - loss: 0.4430 - val_loss: 0.4266\n",
            "Epoch 3/100\n",
            "363/363 [==============================] - 0s 676us/step - loss: 0.4376 - val_loss: 0.3996\n",
            "Epoch 4/100\n",
            "363/363 [==============================] - 0s 671us/step - loss: 0.4361 - val_loss: 0.3939\n",
            "Epoch 5/100\n",
            "363/363 [==============================] - 0s 674us/step - loss: 0.4204 - val_loss: 0.3889\n",
            "Epoch 6/100\n",
            "363/363 [==============================] - 0s 672us/step - loss: 0.4112 - val_loss: 0.3866\n",
            "Epoch 7/100\n",
            "363/363 [==============================] - 0s 671us/step - loss: 0.4226 - val_loss: 0.3860\n",
            "Epoch 8/100\n",
            "363/363 [==============================] - 0s 659us/step - loss: 0.4135 - val_loss: 0.3793\n",
            "Epoch 9/100\n",
            "363/363 [==============================] - 0s 661us/step - loss: 0.4039 - val_loss: 0.3746\n",
            "Epoch 10/100\n",
            "363/363 [==============================] - 0s 655us/step - loss: 0.4023 - val_loss: 0.3723\n",
            "Epoch 11/100\n",
            "363/363 [==============================] - 0s 674us/step - loss: 0.3950 - val_loss: 0.3697\n",
            "Epoch 12/100\n",
            "363/363 [==============================] - 0s 652us/step - loss: 0.3912 - val_loss: 0.3669\n",
            "Epoch 13/100\n",
            "363/363 [==============================] - 0s 660us/step - loss: 0.3939 - val_loss: 0.3661\n",
            "Epoch 14/100\n",
            "363/363 [==============================] - 0s 648us/step - loss: 0.3868 - val_loss: 0.3631\n",
            "Epoch 15/100\n",
            "363/363 [==============================] - 0s 677us/step - loss: 0.3878 - val_loss: 0.3660\n",
            "Epoch 16/100\n",
            "363/363 [==============================] - 0s 651us/step - loss: 0.3935 - val_loss: 0.3625\n",
            "Epoch 17/100\n",
            "363/363 [==============================] - 0s 653us/step - loss: 0.3817 - val_loss: 0.3592\n",
            "Epoch 18/100\n",
            "<<123 more lines>>\n",
            "Epoch 80/100\n",
            "363/363 [==============================] - 0s 677us/step - loss: 0.3323 - val_loss: 0.3354\n",
            "Epoch 81/100\n",
            "363/363 [==============================] - 0s 677us/step - loss: 0.3297 - val_loss: 0.3274\n",
            "Epoch 82/100\n",
            "363/363 [==============================] - 0s 643us/step - loss: 0.3441 - val_loss: 0.3167\n",
            "Epoch 83/100\n",
            "363/363 [==============================] - 0s 699us/step - loss: 0.3369 - val_loss: 0.3280\n",
            "Epoch 84/100\n",
            "363/363 [==============================] - 0s 646us/step - loss: 0.3182 - val_loss: 0.3634\n",
            "Epoch 85/100\n",
            "363/363 [==============================] - 0s 682us/step - loss: 0.3235 - val_loss: 0.3176\n",
            "Epoch 86/100\n",
            "363/363 [==============================] - 0s 590us/step - loss: 0.3184 - val_loss: 0.3156\n",
            "Epoch 87/100\n",
            "363/363 [==============================] - 0s 677us/step - loss: 0.3395 - val_loss: 0.3529\n",
            "Epoch 88/100\n",
            "363/363 [==============================] - 0s 701us/step - loss: 0.3264 - val_loss: 0.3258\n",
            "Epoch 89/100\n",
            "363/363 [==============================] - 0s 710us/step - loss: 0.3210 - val_loss: 0.3630\n",
            "Epoch 90/100\n",
            "363/363 [==============================] - 0s 692us/step - loss: 0.3192 - val_loss: 0.3376\n",
            "Epoch 91/100\n",
            "363/363 [==============================] - 0s 704us/step - loss: 0.3237 - val_loss: 0.3211\n",
            "Epoch 92/100\n",
            "363/363 [==============================] - 0s 696us/step - loss: 0.3281 - val_loss: 0.3456\n",
            "Epoch 93/100\n",
            "363/363 [==============================] - 0s 696us/step - loss: 0.3424 - val_loss: 0.3158\n",
            "Epoch 94/100\n",
            "363/363 [==============================] - 0s 684us/step - loss: 0.3209 - val_loss: 0.3409\n",
            "Epoch 95/100\n",
            "363/363 [==============================] - 0s 676us/step - loss: 0.3230 - val_loss: 0.3379\n",
            "Epoch 96/100\n",
            "363/363 [==============================] - 0s 676us/step - loss: 0.3341 - val_loss: 0.3213\n",
            "162/162 [==============================] - 0s 440us/step - loss: 0.3310\n"
          ]
        }
      ]
    },
    {
      "cell_type": "code",
      "metadata": {
        "id": "KOzXogprTCLh"
      },
      "source": [
        "class PrintValTrainRatioCallback(keras.callbacks.Callback):\n",
        "    def on_epoch_end(self, epoch, logs):\n",
        "        print(\"\\nval/train: {:.2f}\".format(logs[\"val_loss\"] / logs[\"loss\"]))"
      ],
      "execution_count": null,
      "outputs": []
    },
    {
      "cell_type": "code",
      "metadata": {
        "id": "iRrQOxTiTCLh",
        "outputId": "74b3bf2f-c606-4a96-a7d4-8582d4a3fc37"
      },
      "source": [
        "val_train_ratio_cb = PrintValTrainRatioCallback()\n",
        "history = model.fit(X_train, y_train, epochs=1,\n",
        "                    validation_data=(X_valid, y_valid),\n",
        "                    callbacks=[val_train_ratio_cb])"
      ],
      "execution_count": null,
      "outputs": [
        {
          "name": "stdout",
          "output_type": "stream",
          "text": [
            "363/363 [==============================] - 0s 799us/step - loss: 0.3302 - val_loss: 0.3556\n",
            "\n",
            "val/train: 1.08\n"
          ]
        }
      ]
    },
    {
      "cell_type": "markdown",
      "metadata": {
        "id": "gAiSy20OTCLh"
      },
      "source": [
        "# TensorBoard"
      ]
    },
    {
      "cell_type": "code",
      "metadata": {
        "id": "LrhLNHk4TCLh"
      },
      "source": [
        "root_logdir = os.path.join(os.curdir, \"my_logs\")"
      ],
      "execution_count": null,
      "outputs": []
    },
    {
      "cell_type": "code",
      "metadata": {
        "id": "FGe4zBpmTCLh",
        "outputId": "9baa29c5-4a46-4341-ad22-df2ca091cb5d"
      },
      "source": [
        "def get_run_logdir():\n",
        "    import time\n",
        "    run_id = time.strftime(\"run_%Y_%m_%d-%H_%M_%S\")\n",
        "    return os.path.join(root_logdir, run_id)\n",
        "\n",
        "run_logdir = get_run_logdir()\n",
        "run_logdir"
      ],
      "execution_count": null,
      "outputs": [
        {
          "data": {
            "text/plain": [
              "'./my_logs/run_2021_02_13-18_39_20'"
            ]
          },
          "execution_count": 83,
          "metadata": {},
          "output_type": "execute_result"
        }
      ]
    },
    {
      "cell_type": "code",
      "metadata": {
        "id": "pIQhZ2pLTCLh"
      },
      "source": [
        "keras.backend.clear_session()\n",
        "np.random.seed(42)\n",
        "tf.random.set_seed(42)"
      ],
      "execution_count": null,
      "outputs": []
    },
    {
      "cell_type": "code",
      "metadata": {
        "id": "s7APagMZTCLh"
      },
      "source": [
        "model = keras.models.Sequential([\n",
        "    keras.layers.Dense(30, activation=\"relu\", input_shape=[8]),\n",
        "    keras.layers.Dense(30, activation=\"relu\"),\n",
        "    keras.layers.Dense(1)\n",
        "])    \n",
        "model.compile(loss=\"mse\", optimizer=keras.optimizers.SGD(lr=1e-3))"
      ],
      "execution_count": null,
      "outputs": []
    },
    {
      "cell_type": "code",
      "metadata": {
        "id": "83AnfgJcTCLh",
        "outputId": "bb4fe286-4c27-4f30-8dbf-f0a28fd407b2"
      },
      "source": [
        "tensorboard_cb = keras.callbacks.TensorBoard(run_logdir)\n",
        "history = model.fit(X_train, y_train, epochs=30,\n",
        "                    validation_data=(X_valid, y_valid),\n",
        "                    callbacks=[checkpoint_cb, tensorboard_cb])"
      ],
      "execution_count": null,
      "outputs": [
        {
          "name": "stdout",
          "output_type": "stream",
          "text": [
            "Epoch 1/30\n",
            "363/363 [==============================] - 1s 927us/step - loss: 3.3697 - val_loss: 0.7126\n",
            "Epoch 2/30\n",
            "363/363 [==============================] - 0s 695us/step - loss: 0.6964 - val_loss: 0.6880\n",
            "Epoch 3/30\n",
            "363/363 [==============================] - 0s 668us/step - loss: 0.6167 - val_loss: 0.5803\n",
            "Epoch 4/30\n",
            "363/363 [==============================] - 0s 672us/step - loss: 0.5846 - val_loss: 0.5166\n",
            "Epoch 5/30\n",
            "363/363 [==============================] - 0s 692us/step - loss: 0.5321 - val_loss: 0.4895\n",
            "Epoch 6/30\n",
            "363/363 [==============================] - 0s 755us/step - loss: 0.5083 - val_loss: 0.4951\n",
            "Epoch 7/30\n",
            "363/363 [==============================] - 0s 697us/step - loss: 0.5044 - val_loss: 0.4861\n",
            "Epoch 8/30\n",
            "363/363 [==============================] - 0s 668us/step - loss: 0.4813 - val_loss: 0.4554\n",
            "Epoch 9/30\n",
            "363/363 [==============================] - 0s 681us/step - loss: 0.4627 - val_loss: 0.4413\n",
            "Epoch 10/30\n",
            "363/363 [==============================] - 0s 701us/step - loss: 0.4549 - val_loss: 0.4379\n",
            "Epoch 11/30\n",
            "363/363 [==============================] - 0s 696us/step - loss: 0.4416 - val_loss: 0.4396\n",
            "Epoch 12/30\n",
            "363/363 [==============================] - 0s 692us/step - loss: 0.4295 - val_loss: 0.4507\n",
            "Epoch 13/30\n",
            "363/363 [==============================] - 0s 703us/step - loss: 0.4326 - val_loss: 0.3997\n",
            "Epoch 14/30\n",
            "363/363 [==============================] - 0s 703us/step - loss: 0.4207 - val_loss: 0.3956\n",
            "Epoch 15/30\n",
            "363/363 [==============================] - 0s 698us/step - loss: 0.4198 - val_loss: 0.3916\n",
            "Epoch 16/30\n",
            "363/363 [==============================] - 0s 695us/step - loss: 0.4248 - val_loss: 0.3937\n",
            "Epoch 17/30\n",
            "363/363 [==============================] - 0s 699us/step - loss: 0.4105 - val_loss: 0.3809\n",
            "Epoch 18/30\n",
            "363/363 [==============================] - 0s 697us/step - loss: 0.4070 - val_loss: 0.3793\n",
            "Epoch 19/30\n",
            "363/363 [==============================] - 0s 674us/step - loss: 0.3902 - val_loss: 0.3850\n",
            "Epoch 20/30\n",
            "363/363 [==============================] - 0s 680us/step - loss: 0.3864 - val_loss: 0.3809\n",
            "Epoch 21/30\n",
            "363/363 [==============================] - 0s 693us/step - loss: 0.3978 - val_loss: 0.3701\n",
            "Epoch 22/30\n",
            "363/363 [==============================] - 0s 694us/step - loss: 0.3816 - val_loss: 0.3781\n",
            "Epoch 23/30\n",
            "363/363 [==============================] - 0s 680us/step - loss: 0.4042 - val_loss: 0.3650\n",
            "Epoch 24/30\n",
            "363/363 [==============================] - 0s 630us/step - loss: 0.3823 - val_loss: 0.3655\n",
            "Epoch 25/30\n",
            "363/363 [==============================] - 0s 699us/step - loss: 0.3792 - val_loss: 0.3611\n",
            "Epoch 26/30\n",
            "363/363 [==============================] - 0s 684us/step - loss: 0.3800 - val_loss: 0.3626\n",
            "Epoch 27/30\n",
            "363/363 [==============================] - 0s 686us/step - loss: 0.3858 - val_loss: 0.3564\n",
            "Epoch 28/30\n",
            "363/363 [==============================] - 0s 690us/step - loss: 0.3839 - val_loss: 0.3579\n",
            "Epoch 29/30\n",
            "363/363 [==============================] - 0s 695us/step - loss: 0.3736 - val_loss: 0.3561\n",
            "Epoch 30/30\n",
            "363/363 [==============================] - 0s 684us/step - loss: 0.3843 - val_loss: 0.3548\n"
          ]
        }
      ]
    },
    {
      "cell_type": "markdown",
      "metadata": {
        "id": "W6-rE8pDTCLh"
      },
      "source": [
        "To start the TensorBoard server, one option is to open a terminal, if needed activate the virtualenv where you installed TensorBoard, go to this notebook's directory, then type:\n",
        "\n",
        "```bash\n",
        "$ tensorboard --logdir=./my_logs --port=6006\n",
        "```\n",
        "\n",
        "You can then open your web browser to [localhost:6006](http://localhost:6006) and use TensorBoard. Once you are done, press Ctrl-C in the terminal window, this will shutdown the TensorBoard server.\n",
        "\n",
        "Alternatively, you can load TensorBoard's Jupyter extension and run it like this:"
      ]
    },
    {
      "cell_type": "code",
      "metadata": {
        "id": "T0K4LUhTTCLi",
        "outputId": "28d49140-4ebc-46e2-f59d-70ef43003f1f"
      },
      "source": [
        "%load_ext tensorboard\n",
        "%tensorboard --logdir=./my_logs --port=6006"
      ],
      "execution_count": null,
      "outputs": [
        {
          "data": {
            "text/html": [
              "\n",
              "      <iframe id=\"tensorboard-frame-96b788e8a876699a\" width=\"100%\" height=\"800\" frameborder=\"0\">\n",
              "      </iframe>\n",
              "      <script>\n",
              "        (function() {\n",
              "          const frame = document.getElementById(\"tensorboard-frame-96b788e8a876699a\");\n",
              "          const url = new URL(\"/\", window.location);\n",
              "          const port = 6006;\n",
              "          if (port) {\n",
              "            url.port = port;\n",
              "          }\n",
              "          frame.src = url;\n",
              "        })();\n",
              "      </script>\n",
              "    "
            ],
            "text/plain": [
              "<IPython.core.display.HTML object>"
            ]
          },
          "metadata": {},
          "output_type": "display_data"
        }
      ]
    },
    {
      "cell_type": "code",
      "metadata": {
        "id": "8q_pjYmmTCLi",
        "outputId": "56f13b57-03ec-4dcb-a646-de49e355ea79"
      },
      "source": [
        "run_logdir2 = get_run_logdir()\n",
        "run_logdir2"
      ],
      "execution_count": null,
      "outputs": [
        {
          "data": {
            "text/plain": [
              "'./my_logs/run_2021_02_13-18_39_31'"
            ]
          },
          "execution_count": 88,
          "metadata": {},
          "output_type": "execute_result"
        }
      ]
    },
    {
      "cell_type": "code",
      "metadata": {
        "id": "FcaXMshJTCLi"
      },
      "source": [
        "keras.backend.clear_session()\n",
        "np.random.seed(42)\n",
        "tf.random.set_seed(42)"
      ],
      "execution_count": null,
      "outputs": []
    },
    {
      "cell_type": "code",
      "metadata": {
        "id": "H5jvtbYWTCLi"
      },
      "source": [
        "model = keras.models.Sequential([\n",
        "    keras.layers.Dense(30, activation=\"relu\", input_shape=[8]),\n",
        "    keras.layers.Dense(30, activation=\"relu\"),\n",
        "    keras.layers.Dense(1)\n",
        "])    \n",
        "model.compile(loss=\"mse\", optimizer=keras.optimizers.SGD(lr=0.05))"
      ],
      "execution_count": null,
      "outputs": []
    },
    {
      "cell_type": "code",
      "metadata": {
        "id": "YIqlDKPsTCLi",
        "outputId": "c15de1ce-dd2e-4a3d-ec15-32314f00ea86"
      },
      "source": [
        "tensorboard_cb = keras.callbacks.TensorBoard(run_logdir2)\n",
        "history = model.fit(X_train, y_train, epochs=30,\n",
        "                    validation_data=(X_valid, y_valid),\n",
        "                    callbacks=[checkpoint_cb, tensorboard_cb])"
      ],
      "execution_count": null,
      "outputs": [
        {
          "name": "stdout",
          "output_type": "stream",
          "text": [
            "Epoch 1/30\n",
            "363/363 [==============================] - 1s 1ms/step - loss: 0.7645 - val_loss: 302.8536\n",
            "Epoch 2/30\n",
            "363/363 [==============================] - 0s 713us/step - loss: 8159520618.2209 - val_loss: 1.3230\n",
            "Epoch 3/30\n",
            "363/363 [==============================] - 0s 735us/step - loss: 1.3439 - val_loss: 1.3176\n",
            "Epoch 4/30\n",
            "363/363 [==============================] - 0s 738us/step - loss: 1.3546 - val_loss: 1.3261\n",
            "Epoch 5/30\n",
            "363/363 [==============================] - 0s 712us/step - loss: 1.3513 - val_loss: 1.3154\n",
            "Epoch 6/30\n",
            "363/363 [==============================] - 0s 724us/step - loss: 1.3274 - val_loss: 1.3203\n",
            "Epoch 7/30\n",
            "363/363 [==============================] - 0s 693us/step - loss: 1.3639 - val_loss: 1.3149\n",
            "Epoch 8/30\n",
            "363/363 [==============================] - 0s 709us/step - loss: 1.3487 - val_loss: 1.3157\n",
            "Epoch 9/30\n",
            "363/363 [==============================] - 0s 681us/step - loss: 1.3445 - val_loss: 1.3150\n",
            "Epoch 10/30\n",
            "363/363 [==============================] - 0s 681us/step - loss: 1.3697 - val_loss: 1.3172\n",
            "Epoch 11/30\n",
            "363/363 [==============================] - 0s 687us/step - loss: 1.3622 - val_loss: 1.3174\n",
            "Epoch 12/30\n",
            "363/363 [==============================] - 0s 693us/step - loss: 1.3389 - val_loss: 1.3150\n",
            "Epoch 13/30\n",
            "363/363 [==============================] - 0s 668us/step - loss: 1.3336 - val_loss: 1.3270\n",
            "Epoch 14/30\n",
            "363/363 [==============================] - 0s 673us/step - loss: 1.3429 - val_loss: 1.3195\n",
            "Epoch 15/30\n",
            "363/363 [==============================] - 0s 679us/step - loss: 1.3275 - val_loss: 1.3157\n",
            "Epoch 16/30\n",
            "363/363 [==============================] - 0s 701us/step - loss: 1.3669 - val_loss: 1.3182\n",
            "Epoch 17/30\n",
            "363/363 [==============================] - 0s 692us/step - loss: 1.3645 - val_loss: 1.3223\n",
            "Epoch 18/30\n",
            "363/363 [==============================] - 0s 691us/step - loss: 1.3839 - val_loss: 1.3154\n",
            "Epoch 19/30\n",
            "363/363 [==============================] - 0s 680us/step - loss: 1.3078 - val_loss: 1.3168\n",
            "Epoch 20/30\n",
            "363/363 [==============================] - 0s 663us/step - loss: 1.3215 - val_loss: 1.3151\n",
            "Epoch 21/30\n",
            "363/363 [==============================] - 0s 723us/step - loss: 1.3344 - val_loss: 1.3174\n",
            "Epoch 22/30\n",
            "363/363 [==============================] - 0s 674us/step - loss: 1.3269 - val_loss: 1.3204\n",
            "Epoch 23/30\n",
            "363/363 [==============================] - 0s 700us/step - loss: 1.3590 - val_loss: 1.3164\n",
            "Epoch 24/30\n",
            "363/363 [==============================] - 0s 687us/step - loss: 1.3381 - val_loss: 1.3157\n",
            "Epoch 25/30\n",
            "363/363 [==============================] - 0s 687us/step - loss: 1.3265 - val_loss: 1.3180\n",
            "Epoch 26/30\n",
            "363/363 [==============================] - 0s 704us/step - loss: 1.3532 - val_loss: 1.3195\n",
            "Epoch 27/30\n",
            "363/363 [==============================] - 0s 715us/step - loss: 1.3552 - val_loss: 1.3157\n",
            "Epoch 28/30\n",
            "363/363 [==============================] - 0s 698us/step - loss: 1.3447 - val_loss: 1.3222\n",
            "Epoch 29/30\n",
            "363/363 [==============================] - 0s 713us/step - loss: 1.3379 - val_loss: 1.3267\n",
            "Epoch 30/30\n",
            "363/363 [==============================] - 0s 698us/step - loss: 1.3583 - val_loss: 1.3174\n"
          ]
        }
      ]
    },
    {
      "cell_type": "markdown",
      "metadata": {
        "id": "fk_WEXrKTCLi"
      },
      "source": [
        "Notice how TensorBoard now sees two runs, and you can compare the learning curves."
      ]
    },
    {
      "cell_type": "markdown",
      "metadata": {
        "id": "zM652hSvTCLi"
      },
      "source": [
        "Check out the other available logging options:"
      ]
    },
    {
      "cell_type": "code",
      "metadata": {
        "id": "JRTHJwzLTCLi",
        "outputId": "d182f49b-a970-4c2f-c531-b3b1625ee83c"
      },
      "source": [
        "help(keras.callbacks.TensorBoard.__init__)"
      ],
      "execution_count": null,
      "outputs": [
        {
          "name": "stdout",
          "output_type": "stream",
          "text": [
            "Help on function __init__ in module tensorflow.python.keras.callbacks:\n",
            "\n",
            "__init__(self, log_dir='logs', histogram_freq=0, write_graph=True, write_images=False, update_freq='epoch', profile_batch=2, embeddings_freq=0, embeddings_metadata=None, **kwargs)\n",
            "    Initialize self.  See help(type(self)) for accurate signature.\n",
            "\n"
          ]
        }
      ]
    },
    {
      "cell_type": "markdown",
      "metadata": {
        "id": "OJ49sFPSTCLi"
      },
      "source": [
        "# Hyperparameter Tuning"
      ]
    },
    {
      "cell_type": "code",
      "metadata": {
        "id": "nG5OoN-sTCLi"
      },
      "source": [
        "keras.backend.clear_session()\n",
        "np.random.seed(42)\n",
        "tf.random.set_seed(42)"
      ],
      "execution_count": null,
      "outputs": []
    },
    {
      "cell_type": "code",
      "metadata": {
        "id": "CYFOqXXnTCLi"
      },
      "source": [
        "def build_model(n_hidden=1, n_neurons=30, learning_rate=3e-3, input_shape=[8]):\n",
        "    model = keras.models.Sequential()\n",
        "    model.add(keras.layers.InputLayer(input_shape=input_shape))\n",
        "    for layer in range(n_hidden):\n",
        "        model.add(keras.layers.Dense(n_neurons, activation=\"relu\"))\n",
        "    model.add(keras.layers.Dense(1))\n",
        "    optimizer = keras.optimizers.SGD(lr=learning_rate)\n",
        "    model.compile(loss=\"mse\", optimizer=optimizer)\n",
        "    return model"
      ],
      "execution_count": null,
      "outputs": []
    },
    {
      "cell_type": "code",
      "metadata": {
        "id": "N2AnZyDhTCLi"
      },
      "source": [
        "keras_reg = keras.wrappers.scikit_learn.KerasRegressor(build_model)"
      ],
      "execution_count": null,
      "outputs": []
    },
    {
      "cell_type": "code",
      "metadata": {
        "id": "9EgqtTtrTCLi",
        "outputId": "1a80f5de-1bd9-47bb-ea5e-ca9c8593384e"
      },
      "source": [
        "keras_reg.fit(X_train, y_train, epochs=100,\n",
        "              validation_data=(X_valid, y_valid),\n",
        "              callbacks=[keras.callbacks.EarlyStopping(patience=10)])"
      ],
      "execution_count": null,
      "outputs": [
        {
          "name": "stdout",
          "output_type": "stream",
          "text": [
            "Epoch 1/100\n",
            "363/363 [==============================] - 0s 905us/step - loss: 1.5673 - val_loss: 20.7721\n",
            "Epoch 2/100\n",
            "363/363 [==============================] - 0s 665us/step - loss: 1.3216 - val_loss: 5.0266\n",
            "Epoch 3/100\n",
            "363/363 [==============================] - 0s 671us/step - loss: 0.5972 - val_loss: 0.5490\n",
            "Epoch 4/100\n",
            "363/363 [==============================] - 0s 661us/step - loss: 0.4985 - val_loss: 0.4529\n",
            "Epoch 5/100\n",
            "363/363 [==============================] - 0s 687us/step - loss: 0.4608 - val_loss: 0.4188\n",
            "Epoch 6/100\n",
            "363/363 [==============================] - 0s 678us/step - loss: 0.4410 - val_loss: 0.4129\n",
            "Epoch 7/100\n",
            "363/363 [==============================] - 0s 676us/step - loss: 0.4463 - val_loss: 0.4004\n",
            "Epoch 8/100\n",
            "363/363 [==============================] - 0s 686us/step - loss: 0.4283 - val_loss: 0.3944\n",
            "Epoch 9/100\n",
            "363/363 [==============================] - 0s 660us/step - loss: 0.4139 - val_loss: 0.3961\n",
            "Epoch 10/100\n",
            "363/363 [==============================] - 0s 681us/step - loss: 0.4107 - val_loss: 0.4071\n",
            "Epoch 11/100\n",
            "363/363 [==============================] - 0s 655us/step - loss: 0.3992 - val_loss: 0.3855\n",
            "Epoch 12/100\n",
            "363/363 [==============================] - 0s 627us/step - loss: 0.3982 - val_loss: 0.4136\n",
            "Epoch 13/100\n",
            "363/363 [==============================] - 0s 692us/step - loss: 0.3983 - val_loss: 0.3997\n",
            "Epoch 14/100\n",
            "363/363 [==============================] - 0s 675us/step - loss: 0.3910 - val_loss: 0.3818\n",
            "Epoch 15/100\n",
            "363/363 [==============================] - 0s 592us/step - loss: 0.3948 - val_loss: 0.3829\n",
            "Epoch 16/100\n",
            "363/363 [==============================] - 0s 686us/step - loss: 0.3981 - val_loss: 0.3739\n",
            "Epoch 17/100\n",
            "363/363 [==============================] - 0s 674us/step - loss: 0.3821 - val_loss: 0.4022\n",
            "Epoch 18/100\n",
            "<<130 more lines>>\n",
            "363/363 [==============================] - 0s 627us/step - loss: 0.3441 - val_loss: 0.3342\n",
            "Epoch 84/100\n",
            "363/363 [==============================] - 0s 640us/step - loss: 0.3240 - val_loss: 0.4136\n",
            "Epoch 85/100\n",
            "363/363 [==============================] - 0s 656us/step - loss: 0.3303 - val_loss: 0.3285\n",
            "Epoch 86/100\n",
            "363/363 [==============================] - 0s 671us/step - loss: 0.3263 - val_loss: 0.3440\n",
            "Epoch 87/100\n",
            "363/363 [==============================] - 0s 672us/step - loss: 0.3483 - val_loss: 0.3733\n",
            "Epoch 88/100\n",
            "363/363 [==============================] - 0s 649us/step - loss: 0.3305 - val_loss: 0.3188\n",
            "Epoch 89/100\n",
            "363/363 [==============================] - 0s 578us/step - loss: 0.3283 - val_loss: 0.3492\n",
            "Epoch 90/100\n",
            "363/363 [==============================] - 0s 665us/step - loss: 0.3243 - val_loss: 0.3175\n",
            "Epoch 91/100\n",
            "363/363 [==============================] - 0s 664us/step - loss: 0.3288 - val_loss: 0.3594\n",
            "Epoch 92/100\n",
            "363/363 [==============================] - 0s 675us/step - loss: 0.3343 - val_loss: 0.3169\n",
            "Epoch 93/100\n",
            "363/363 [==============================] - 0s 666us/step - loss: 0.3485 - val_loss: 0.3607\n",
            "Epoch 94/100\n",
            "363/363 [==============================] - 0s 659us/step - loss: 0.3262 - val_loss: 0.5184\n",
            "Epoch 95/100\n",
            "363/363 [==============================] - 0s 677us/step - loss: 0.3284 - val_loss: 0.7536\n",
            "Epoch 96/100\n",
            "363/363 [==============================] - 0s 674us/step - loss: 0.3494 - val_loss: 0.5075\n",
            "Epoch 97/100\n",
            "363/363 [==============================] - 0s 628us/step - loss: 0.3290 - val_loss: 0.8087\n",
            "Epoch 98/100\n",
            "363/363 [==============================] - 0s 624us/step - loss: 0.3277 - val_loss: 1.0447\n",
            "Epoch 99/100\n",
            "363/363 [==============================] - 0s 683us/step - loss: 0.3199 - val_loss: 1.6881\n",
            "Epoch 100/100\n",
            "363/363 [==============================] - 0s 671us/step - loss: 0.3706 - val_loss: 1.9265\n"
          ]
        },
        {
          "data": {
            "text/plain": [
              "<tensorflow.python.keras.callbacks.History at 0x7fd97a00df90>"
            ]
          },
          "execution_count": 96,
          "metadata": {},
          "output_type": "execute_result"
        }
      ]
    },
    {
      "cell_type": "code",
      "metadata": {
        "id": "U82JB8xSTCLi",
        "outputId": "059bec03-d110-4d2d-9b73-6c556b7db0e9"
      },
      "source": [
        "mse_test = keras_reg.score(X_test, y_test)"
      ],
      "execution_count": null,
      "outputs": [
        {
          "name": "stdout",
          "output_type": "stream",
          "text": [
            "162/162 [==============================] - 0s 417us/step - loss: 0.3409\n"
          ]
        }
      ]
    },
    {
      "cell_type": "code",
      "metadata": {
        "id": "saylecHUTCLi",
        "outputId": "fbcb6cb4-f49d-4689-938f-88c0d10f26b4"
      },
      "source": [
        "y_pred = keras_reg.predict(X_new)"
      ],
      "execution_count": null,
      "outputs": [
        {
          "name": "stdout",
          "output_type": "stream",
          "text": [
            "WARNING:tensorflow:8 out of the last 9 calls to <function Model.make_predict_function.<locals>.predict_function at 0x7fd98963b7a0> triggered tf.function retracing. Tracing is expensive and the excessive number of tracings could be due to (1) creating @tf.function repeatedly in a loop, (2) passing tensors with different shapes, (3) passing Python objects instead of tensors. For (1), please define your @tf.function outside of the loop. For (2), @tf.function has experimental_relax_shapes=True option that relaxes argument shapes that can avoid unnecessary retracing. For (3), please refer to https://www.tensorflow.org/guide/function#controlling_retracing and https://www.tensorflow.org/api_docs/python/tf/function for  more details.\n"
          ]
        }
      ]
    },
    {
      "cell_type": "code",
      "metadata": {
        "id": "QfQ-PT0PTCLi"
      },
      "source": [
        "np.random.seed(42)\n",
        "tf.random.set_seed(42)"
      ],
      "execution_count": null,
      "outputs": []
    },
    {
      "cell_type": "markdown",
      "metadata": {
        "id": "jlEi2JMgTCLi"
      },
      "source": [
        "**Warning**: the following cell crashes at the end of training. This seems to be caused by [Keras issue #13586](https://github.com/keras-team/keras/issues/13586), which was triggered by a recent change in Scikit-Learn. [Pull Request #13598](https://github.com/keras-team/keras/pull/13598) seems to fix the issue, so this problem should be resolved soon. In the meantime, I've added `.tolist()` and `.rvs(1000).tolist()` as workarounds."
      ]
    },
    {
      "cell_type": "code",
      "metadata": {
        "id": "eaaKn3IOTCLi",
        "outputId": "73f2ea5f-0926-4149-a0be-019d8f9a3048"
      },
      "source": [
        "from scipy.stats import reciprocal\n",
        "from sklearn.model_selection import RandomizedSearchCV\n",
        "\n",
        "param_distribs = {\n",
        "    \"n_hidden\": [0, 1, 2, 3],\n",
        "    \"n_neurons\": np.arange(1, 100)               .tolist(),\n",
        "    \"learning_rate\": reciprocal(3e-4, 3e-2)      .rvs(1000).tolist(),\n",
        "}\n",
        "\n",
        "rnd_search_cv = RandomizedSearchCV(keras_reg, param_distribs, n_iter=10, cv=3, verbose=2)\n",
        "rnd_search_cv.fit(X_train, y_train, epochs=100,\n",
        "                  validation_data=(X_valid, y_valid),\n",
        "                  callbacks=[keras.callbacks.EarlyStopping(patience=10)])"
      ],
      "execution_count": null,
      "outputs": [
        {
          "name": "stdout",
          "output_type": "stream",
          "text": [
            "Fitting 3 folds for each of 10 candidates, totalling 30 fits\n",
            "Epoch 1/100\n",
            "242/242 [==============================] - 0s 1ms/step - loss: 1.3827 - val_loss: 0.4703\n",
            "Epoch 2/100\n",
            "242/242 [==============================] - 0s 757us/step - loss: 0.4880 - val_loss: 0.4247\n",
            "Epoch 3/100\n",
            "242/242 [==============================] - 0s 765us/step - loss: 0.4541 - val_loss: 0.4052\n",
            "Epoch 4/100\n",
            "242/242 [==============================] - 0s 745us/step - loss: 0.4518 - val_loss: 0.3975\n",
            "Epoch 5/100\n",
            "242/242 [==============================] - 0s 765us/step - loss: 0.4337 - val_loss: 0.3991\n",
            "Epoch 6/100\n",
            "242/242 [==============================] - 0s 751us/step - loss: 0.4263 - val_loss: 0.4031\n",
            "Epoch 7/100\n",
            "242/242 [==============================] - 0s 743us/step - loss: 0.4385 - val_loss: 0.4043\n",
            "Epoch 8/100\n",
            "242/242 [==============================] - 0s 780us/step - loss: 0.4301 - val_loss: 0.3929\n",
            "Epoch 9/100\n",
            "242/242 [==============================] - 0s 792us/step - loss: 0.4108 - val_loss: 0.4040\n",
            "Epoch 10/100\n",
            "242/242 [==============================] - 0s 764us/step - loss: 0.4200 - val_loss: 0.3886\n",
            "Epoch 11/100\n",
            "242/242 [==============================] - 0s 745us/step - loss: 0.4099 - val_loss: 0.3999\n",
            "Epoch 12/100\n",
            "242/242 [==============================] - 0s 740us/step - loss: 0.3897 - val_loss: 0.4085\n",
            "Epoch 13/100\n",
            "242/242 [==============================] - 0s 765us/step - loss: 0.4265 - val_loss: 0.3922\n",
            "Epoch 14/100\n",
            "242/242 [==============================] - 0s 752us/step - loss: 0.4108 - val_loss: 0.3918\n",
            "Epoch 15/100\n",
            "242/242 [==============================] - 0s 731us/step - loss: 0.4070 - val_loss: 0.3886\n",
            "Epoch 16/100\n",
            "242/242 [==============================] - 0s 737us/step - loss: 0.4032 - val_loss: 0.3933\n",
            "Epoch 17/100\n",
            "242/242 [==============================] - 0s 774us/step - loss: 0.4212 - val_loss: 0.3907\n",
            "<<2367 more lines>>\n",
            "363/363 [==============================] - 0s 622us/step - loss: 0.3312 - val_loss: 0.5455\n",
            "Epoch 12/100\n",
            "363/363 [==============================] - 0s 727us/step - loss: 0.3456 - val_loss: 0.6470\n",
            "Epoch 13/100\n",
            "363/363 [==============================] - 0s 742us/step - loss: 0.3320 - val_loss: 0.3109\n",
            "Epoch 14/100\n",
            "363/363 [==============================] - 0s 697us/step - loss: 0.3259 - val_loss: 0.3198\n",
            "Epoch 15/100\n",
            "363/363 [==============================] - 0s 662us/step - loss: 0.3222 - val_loss: 0.3065\n",
            "Epoch 16/100\n",
            "363/363 [==============================] - 0s 748us/step - loss: 0.3277 - val_loss: 0.3252\n",
            "Epoch 17/100\n",
            "363/363 [==============================] - 0s 724us/step - loss: 0.3095 - val_loss: 0.3965\n",
            "Epoch 18/100\n",
            "363/363 [==============================] - 0s 703us/step - loss: 0.3107 - val_loss: 0.2997\n",
            "Epoch 19/100\n",
            "363/363 [==============================] - 0s 706us/step - loss: 0.3060 - val_loss: 0.3079\n",
            "Epoch 20/100\n",
            "363/363 [==============================] - 0s 704us/step - loss: 0.3003 - val_loss: 0.4544\n",
            "Epoch 21/100\n",
            "363/363 [==============================] - 0s 698us/step - loss: 0.3090 - val_loss: 0.3274\n",
            "Epoch 22/100\n",
            "363/363 [==============================] - 0s 709us/step - loss: 0.2949 - val_loss: 0.5018\n",
            "Epoch 23/100\n",
            "363/363 [==============================] - 0s 715us/step - loss: 0.3126 - val_loss: 0.5565\n",
            "Epoch 24/100\n",
            "363/363 [==============================] - 0s 702us/step - loss: 0.3031 - val_loss: 0.5390\n",
            "Epoch 25/100\n",
            "363/363 [==============================] - 0s 698us/step - loss: 0.2992 - val_loss: 0.3339\n",
            "Epoch 26/100\n",
            "363/363 [==============================] - 0s 719us/step - loss: 0.2988 - val_loss: 0.5095\n",
            "Epoch 27/100\n",
            "363/363 [==============================] - 0s 716us/step - loss: 0.3001 - val_loss: 0.6597\n",
            "Epoch 28/100\n",
            "363/363 [==============================] - 0s 721us/step - loss: 0.3058 - val_loss: 0.5106\n"
          ]
        },
        {
          "data": {
            "text/plain": [
              "RandomizedSearchCV(cv=3,\n",
              "                   estimator=<tensorflow.python.keras.wrappers.scikit_learn.KerasRegressor object at 0x7fd939643c10>,\n",
              "                   param_distributions={'learning_rate': [0.001683454924600351,\n",
              "                                                          0.02390836445593178,\n",
              "                                                          0.008731907739399206,\n",
              "                                                          0.004725396149933917,\n",
              "                                                          0.0006154014789262348,\n",
              "                                                          0.0006153331256530192,\n",
              "                                                          0.0003920021771415983,\n",
              "                                                          0.01619845322936229,\n",
              "                                                          0.004779156784872302,\n",
              "                                                          0.0...\n",
              "                                                          0.005021425736625637,\n",
              "                                                          0.0005703073595961105,\n",
              "                                                          0.001151888789941251,\n",
              "                                                          0.001621231156394198,\n",
              "                                                          0.0024505367684280487,\n",
              "                                                          0.011155092541719619,\n",
              "                                                          0.0007524347058135697,\n",
              "                                                          0.0032032448128444043,\n",
              "                                                          0.004591455636549438,\n",
              "                                                          0.0003715541189658278, ...],\n",
              "                                        'n_hidden': [0, 1, 2, 3],\n",
              "                                        'n_neurons': [1, 2, 3, 4, 5, 6, 7, 8, 9,\n",
              "                                                      10, 11, 12, 13, 14, 15,\n",
              "                                                      16, 17, 18, 19, 20, 21,\n",
              "                                                      22, 23, 24, 25, 26, 27,\n",
              "                                                      28, 29, 30, ...]},\n",
              "                   verbose=2)"
            ]
          },
          "execution_count": 100,
          "metadata": {},
          "output_type": "execute_result"
        }
      ]
    },
    {
      "cell_type": "code",
      "metadata": {
        "id": "lYUVEQqJTCLj",
        "outputId": "380fd4a9-4420-4c16-8c18-ff192d5d9e81"
      },
      "source": [
        "rnd_search_cv.best_params_"
      ],
      "execution_count": null,
      "outputs": [
        {
          "data": {
            "text/plain": [
              "{'n_neurons': 74, 'n_hidden': 3, 'learning_rate': 0.005803602934201024}"
            ]
          },
          "execution_count": 101,
          "metadata": {},
          "output_type": "execute_result"
        }
      ]
    },
    {
      "cell_type": "code",
      "metadata": {
        "id": "nG-cazBKTCLj",
        "outputId": "8ae101ad-aa4b-4451-e723-7bd99d636105"
      },
      "source": [
        "rnd_search_cv.best_score_"
      ],
      "execution_count": null,
      "outputs": [
        {
          "data": {
            "text/plain": [
              "-0.32039451599121094"
            ]
          },
          "execution_count": 102,
          "metadata": {},
          "output_type": "execute_result"
        }
      ]
    },
    {
      "cell_type": "code",
      "metadata": {
        "id": "qnpyyb36TCLj",
        "outputId": "aa18cd29-3289-4928-d07a-e33f5db3d950"
      },
      "source": [
        "rnd_search_cv.best_estimator_"
      ],
      "execution_count": null,
      "outputs": [
        {
          "data": {
            "text/plain": [
              "<tensorflow.python.keras.wrappers.scikit_learn.KerasRegressor at 0x7fd972969310>"
            ]
          },
          "execution_count": 103,
          "metadata": {},
          "output_type": "execute_result"
        }
      ]
    },
    {
      "cell_type": "code",
      "metadata": {
        "id": "YSQjiKe8TCLj",
        "outputId": "b3783fec-dfe3-4fa5-da15-348655594f5e"
      },
      "source": [
        "rnd_search_cv.score(X_test, y_test)"
      ],
      "execution_count": null,
      "outputs": [
        {
          "name": "stdout",
          "output_type": "stream",
          "text": [
            "162/162 [==============================] - 0s 436us/step - loss: 0.3029\n"
          ]
        },
        {
          "data": {
            "text/plain": [
              "-0.3028871417045593"
            ]
          },
          "execution_count": 104,
          "metadata": {},
          "output_type": "execute_result"
        }
      ]
    },
    {
      "cell_type": "code",
      "metadata": {
        "id": "jgtExg4xTCLj",
        "outputId": "9f125add-7332-4fb3-b8da-082bbdd9d476"
      },
      "source": [
        "model = rnd_search_cv.best_estimator_.model\n",
        "model"
      ],
      "execution_count": null,
      "outputs": [
        {
          "data": {
            "text/plain": [
              "<tensorflow.python.keras.engine.sequential.Sequential at 0x7fd988eafa10>"
            ]
          },
          "execution_count": 105,
          "metadata": {},
          "output_type": "execute_result"
        }
      ]
    },
    {
      "cell_type": "code",
      "metadata": {
        "scrolled": true,
        "id": "Q1ajJfsSTCLj",
        "outputId": "a5875fa4-6141-461a-ffd6-d4742abaaf57"
      },
      "source": [
        "model.evaluate(X_test, y_test)"
      ],
      "execution_count": null,
      "outputs": [
        {
          "name": "stdout",
          "output_type": "stream",
          "text": [
            "162/162 [==============================] - 0s 446us/step - loss: 0.3029\n"
          ]
        },
        {
          "data": {
            "text/plain": [
              "0.3028871417045593"
            ]
          },
          "execution_count": 106,
          "metadata": {},
          "output_type": "execute_result"
        }
      ]
    },
    {
      "cell_type": "markdown",
      "metadata": {
        "id": "MlAo-nf6TCLj"
      },
      "source": [
        "# Exercise solutions"
      ]
    },
    {
      "cell_type": "markdown",
      "metadata": {
        "id": "kUwGB5BTTCLj"
      },
      "source": [
        "## 1. to 9."
      ]
    },
    {
      "cell_type": "markdown",
      "metadata": {
        "id": "tMipR_HdTCLj"
      },
      "source": [
        "See appendix A."
      ]
    },
    {
      "cell_type": "markdown",
      "metadata": {
        "id": "S3PaU7ARTCLj"
      },
      "source": [
        "## 10."
      ]
    },
    {
      "cell_type": "markdown",
      "metadata": {
        "id": "gu9kXKPzTCLj"
      },
      "source": [
        "*Exercise: Train a deep MLP on the MNIST dataset (you can load it using `keras.datasets.mnist.load_data()`. See if you can get over 98% precision. Try searching for the optimal learning rate by using the approach presented in this chapter (i.e., by growing the learning rate exponentially, plotting the loss, and finding the point where the loss shoots up). Try adding all the bells and whistles—save checkpoints, use early stopping, and plot learning curves using TensorBoard.*"
      ]
    },
    {
      "cell_type": "markdown",
      "metadata": {
        "id": "Ps8mPv3-TCLj"
      },
      "source": [
        "Let's load the dataset:"
      ]
    },
    {
      "cell_type": "code",
      "metadata": {
        "id": "w5S1Nw5bTCLj"
      },
      "source": [
        "(X_train_full, y_train_full), (X_test, y_test) = keras.datasets.mnist.load_data()"
      ],
      "execution_count": null,
      "outputs": []
    },
    {
      "cell_type": "markdown",
      "metadata": {
        "id": "HcnfE3sLTCLj"
      },
      "source": [
        "Just like for the Fashion MNIST dataset, the MNIST training set contains 60,000 grayscale images, each 28x28 pixels:"
      ]
    },
    {
      "cell_type": "code",
      "metadata": {
        "id": "7ckmgWswTCLj",
        "outputId": "7fadd615-b17c-4b8d-bdd1-4161e9a0c66c"
      },
      "source": [
        "X_train_full.shape"
      ],
      "execution_count": null,
      "outputs": [
        {
          "data": {
            "text/plain": [
              "(60000, 28, 28)"
            ]
          },
          "execution_count": 108,
          "metadata": {},
          "output_type": "execute_result"
        }
      ]
    },
    {
      "cell_type": "markdown",
      "metadata": {
        "id": "cRwnSSqKTCLj"
      },
      "source": [
        "Each pixel intensity is also represented as a byte (0 to 255):"
      ]
    },
    {
      "cell_type": "code",
      "metadata": {
        "id": "E_ffKwAGTCLj",
        "outputId": "a1ba4dcd-7335-4179-e128-208d85eede34"
      },
      "source": [
        "X_train_full.dtype"
      ],
      "execution_count": null,
      "outputs": [
        {
          "data": {
            "text/plain": [
              "dtype('uint8')"
            ]
          },
          "execution_count": 109,
          "metadata": {},
          "output_type": "execute_result"
        }
      ]
    },
    {
      "cell_type": "markdown",
      "metadata": {
        "id": "Is65wNv0TCLj"
      },
      "source": [
        "Let's split the full training set into a validation set and a (smaller) training set. We also scale the pixel intensities down to the 0-1 range and convert them to floats, by dividing by 255, just like we did for Fashion MNIST:"
      ]
    },
    {
      "cell_type": "code",
      "metadata": {
        "id": "pKSnbjcjTCLj"
      },
      "source": [
        "X_valid, X_train = X_train_full[:5000] / 255., X_train_full[5000:] / 255.\n",
        "y_valid, y_train = y_train_full[:5000], y_train_full[5000:]\n",
        "X_test = X_test / 255."
      ],
      "execution_count": null,
      "outputs": []
    },
    {
      "cell_type": "markdown",
      "metadata": {
        "id": "PrU9a2bRTCLk"
      },
      "source": [
        "Let's plot an image using Matplotlib's `imshow()` function, with a `'binary'`\n",
        " color map:"
      ]
    },
    {
      "cell_type": "code",
      "metadata": {
        "id": "Rg1tHGOETCLk",
        "outputId": "100aa072-8977-458e-c5da-0e68543e92af"
      },
      "source": [
        "plt.imshow(X_train[0], cmap=\"binary\")\n",
        "plt.axis('off')\n",
        "plt.show()"
      ],
      "execution_count": null,
      "outputs": [
        {
          "data": {
            "image/png": "[encoded data removed]",
            "text/plain": [
              "<Figure size 432x288 with 1 Axes>"
            ]
          },
          "metadata": {
            "needs_background": "light"
          },
          "output_type": "display_data"
        }
      ]
    },
    {
      "cell_type": "markdown",
      "metadata": {
        "id": "C9ozqSRBTCLk"
      },
      "source": [
        "The labels are the class IDs (represented as uint8), from 0 to 9. Conveniently, the class IDs correspond to the digits represented in the images, so we don't need a `class_names` array:"
      ]
    },
    {
      "cell_type": "code",
      "metadata": {
        "id": "BMPB3aW0TCLk",
        "outputId": "30e62292-1e40-4b53-b81d-bbd9e49d819b"
      },
      "source": [
        "y_train"
      ],
      "execution_count": null,
      "outputs": [
        {
          "data": {
            "text/plain": [
              "array([7, 3, 4, ..., 5, 6, 8], dtype=uint8)"
            ]
          },
          "execution_count": 112,
          "metadata": {},
          "output_type": "execute_result"
        }
      ]
    },
    {
      "cell_type": "markdown",
      "metadata": {
        "id": "BuA-ivYCTCLk"
      },
      "source": [
        "The validation set contains 5,000 images, and the test set contains 10,000 images:"
      ]
    },
    {
      "cell_type": "code",
      "metadata": {
        "id": "uES6PHkMTCLk",
        "outputId": "99e30966-4d02-4af1-a4b6-f14fc0b13f54"
      },
      "source": [
        "X_valid.shape"
      ],
      "execution_count": null,
      "outputs": [
        {
          "data": {
            "text/plain": [
              "(5000, 28, 28)"
            ]
          },
          "execution_count": 113,
          "metadata": {},
          "output_type": "execute_result"
        }
      ]
    },
    {
      "cell_type": "code",
      "metadata": {
        "id": "eILD58BfTCLk",
        "outputId": "7b5d821b-cbd2-49d7-89cd-1ab7ece6d795"
      },
      "source": [
        "X_test.shape"
      ],
      "execution_count": null,
      "outputs": [
        {
          "data": {
            "text/plain": [
              "(10000, 28, 28)"
            ]
          },
          "execution_count": 114,
          "metadata": {},
          "output_type": "execute_result"
        }
      ]
    },
    {
      "cell_type": "markdown",
      "metadata": {
        "id": "2Re59ughTCLk"
      },
      "source": [
        "Let's take a look at a sample of the images in the dataset:"
      ]
    },
    {
      "cell_type": "code",
      "metadata": {
        "id": "j58b8p1bTCLk",
        "outputId": "419918ea-ac83-4983-df66-6be0260d1dc9"
      },
      "source": [
        "n_rows = 4\n",
        "n_cols = 10\n",
        "plt.figure(figsize=(n_cols * 1.2, n_rows * 1.2))\n",
        "for row in range(n_rows):\n",
        "    for col in range(n_cols):\n",
        "        index = n_cols * row + col\n",
        "        plt.subplot(n_rows, n_cols, index + 1)\n",
        "        plt.imshow(X_train[index], cmap=\"binary\", interpolation=\"nearest\")\n",
        "        plt.axis('off')\n",
        "        plt.title(y_train[index], fontsize=12)\n",
        "plt.subplots_adjust(wspace=0.2, hspace=0.5)\n",
        "plt.show()"
      ],
      "execution_count": null,
      "outputs": [
        {
          "data": {
            "image/png": "[encoded data removed]",
            "text/plain": [
              "<Figure size 864x345.6 with 40 Axes>"
            ]
          },
          "metadata": {
            "needs_background": "light"
          },
          "output_type": "display_data"
        }
      ]
    },
    {
      "cell_type": "markdown",
      "metadata": {
        "id": "o7k9Xir0TCLk"
      },
      "source": [
        "Let's build a simple dense network and find the optimal learning rate. We will need a callback to grow the learning rate at each iteration. It will also record the learning rate and the loss at each iteration:"
      ]
    },
    {
      "cell_type": "code",
      "metadata": {
        "id": "BYRunB8yTCLk"
      },
      "source": [
        "K = keras.backend\n",
        "\n",
        "class ExponentialLearningRate(keras.callbacks.Callback):\n",
        "    def __init__(self, factor):\n",
        "        self.factor = factor\n",
        "        self.rates = []\n",
        "        self.losses = []\n",
        "    def on_batch_end(self, batch, logs):\n",
        "        self.rates.append(K.get_value(self.model.optimizer.lr))\n",
        "        self.losses.append(logs[\"loss\"])\n",
        "        K.set_value(self.model.optimizer.lr, self.model.optimizer.lr * self.factor)"
      ],
      "execution_count": null,
      "outputs": []
    },
    {
      "cell_type": "code",
      "metadata": {
        "id": "Gs9F5gqfTCLk"
      },
      "source": [
        "keras.backend.clear_session()\n",
        "np.random.seed(42)\n",
        "tf.random.set_seed(42)"
      ],
      "execution_count": null,
      "outputs": []
    },
    {
      "cell_type": "code",
      "metadata": {
        "id": "KUiSZFZfTCLk"
      },
      "source": [
        "model = keras.models.Sequential([\n",
        "    keras.layers.Flatten(input_shape=[28, 28]),\n",
        "    keras.layers.Dense(300, activation=\"relu\"),\n",
        "    keras.layers.Dense(100, activation=\"relu\"),\n",
        "    keras.layers.Dense(10, activation=\"softmax\")\n",
        "])"
      ],
      "execution_count": null,
      "outputs": []
    },
    {
      "cell_type": "markdown",
      "metadata": {
        "id": "N2C2qYNQTCLk"
      },
      "source": [
        "We will start with a small learning rate of 1e-3, and grow it by 0.5% at each iteration:"
      ]
    },
    {
      "cell_type": "code",
      "metadata": {
        "id": "qFARtp5LTCLk"
      },
      "source": [
        "model.compile(loss=\"sparse_categorical_crossentropy\",\n",
        "              optimizer=keras.optimizers.SGD(lr=1e-3),\n",
        "              metrics=[\"accuracy\"])\n",
        "expon_lr = ExponentialLearningRate(factor=1.005)"
      ],
      "execution_count": null,
      "outputs": []
    },
    {
      "cell_type": "markdown",
      "metadata": {
        "id": "UXuXBu91TCLk"
      },
      "source": [
        "Now let's train the model for just 1 epoch:"
      ]
    },
    {
      "cell_type": "code",
      "metadata": {
        "id": "RDJpXCAeTCLk",
        "outputId": "45cec94d-081c-4541-e393-563d5cc7e29b"
      },
      "source": [
        "history = model.fit(X_train, y_train, epochs=1,\n",
        "                    validation_data=(X_valid, y_valid),\n",
        "                    callbacks=[expon_lr])"
      ],
      "execution_count": null,
      "outputs": [
        {
          "name": "stdout",
          "output_type": "stream",
          "text": [
            "1719/1719 [==============================] - 2s 1ms/step - loss: 4.6604 - accuracy: 0.4887 - val_loss: 2.3911 - val_accuracy: 0.1126\n"
          ]
        }
      ]
    },
    {
      "cell_type": "markdown",
      "metadata": {
        "id": "YyAxt1P3TCLk"
      },
      "source": [
        "We can now plot the loss as a functionof the learning rate:"
      ]
    },
    {
      "cell_type": "code",
      "metadata": {
        "id": "pnU-f4n3TCLk",
        "outputId": "3702ede7-6586-4931-f0de-05ee03f1df03"
      },
      "source": [
        "plt.plot(expon_lr.rates, expon_lr.losses)\n",
        "plt.gca().set_xscale('log')\n",
        "plt.hlines(min(expon_lr.losses), min(expon_lr.rates), max(expon_lr.rates))\n",
        "plt.axis([min(expon_lr.rates), max(expon_lr.rates), 0, expon_lr.losses[0]])\n",
        "plt.grid()\n",
        "plt.xlabel(\"Learning rate\")\n",
        "plt.ylabel(\"Loss\")"
      ],
      "execution_count": null,
      "outputs": [
        {
          "data": {
            "text/plain": [
              "Text(0, 0.5, 'Loss')"
            ]
          },
          "execution_count": 121,
          "metadata": {},
          "output_type": "execute_result"
        },
        {
          "data": {
            "image/png": "[encoded data removed]",
            "text/plain": [
              "<Figure size 432x288 with 1 Axes>"
            ]
          },
          "metadata": {
            "needs_background": "light"
          },
          "output_type": "display_data"
        }
      ]
    },
    {
      "cell_type": "markdown",
      "metadata": {
        "id": "Jqc42BYBTCLk"
      },
      "source": [
        "The loss starts shooting back up violently when the learning rate goes over 6e-1, so let's try using half of that, at 3e-1:"
      ]
    },
    {
      "cell_type": "code",
      "metadata": {
        "id": "X-vsqwBKTCLk"
      },
      "source": [
        "keras.backend.clear_session()\n",
        "np.random.seed(42)\n",
        "tf.random.set_seed(42)"
      ],
      "execution_count": null,
      "outputs": []
    },
    {
      "cell_type": "code",
      "metadata": {
        "id": "JpPy9RgHTCLl"
      },
      "source": [
        "model = keras.models.Sequential([\n",
        "    keras.layers.Flatten(input_shape=[28, 28]),\n",
        "    keras.layers.Dense(300, activation=\"relu\"),\n",
        "    keras.layers.Dense(100, activation=\"relu\"),\n",
        "    keras.layers.Dense(10, activation=\"softmax\")\n",
        "])"
      ],
      "execution_count": null,
      "outputs": []
    },
    {
      "cell_type": "code",
      "metadata": {
        "id": "VZ-ZReojTCLl"
      },
      "source": [
        "model.compile(loss=\"sparse_categorical_crossentropy\",\n",
        "              optimizer=keras.optimizers.SGD(lr=3e-1),\n",
        "              metrics=[\"accuracy\"])"
      ],
      "execution_count": null,
      "outputs": []
    },
    {
      "cell_type": "code",
      "metadata": {
        "id": "toKvvFVRTCLl",
        "outputId": "7b4a15b0-24c5-47bf-c0c6-a0bcf5f6238f"
      },
      "source": [
        "run_index = 1 # increment this at every run\n",
        "run_logdir = os.path.join(os.curdir, \"my_mnist_logs\", \"run_{:03d}\".format(run_index))\n",
        "run_logdir"
      ],
      "execution_count": null,
      "outputs": [
        {
          "data": {
            "text/plain": [
              "'./my_mnist_logs/run_001'"
            ]
          },
          "execution_count": 125,
          "metadata": {},
          "output_type": "execute_result"
        }
      ]
    },
    {
      "cell_type": "code",
      "metadata": {
        "id": "sGVYY-MJTCLl",
        "outputId": "c7a4f3af-3fe0-45ca-b769-8ecf587893e6"
      },
      "source": [
        "early_stopping_cb = keras.callbacks.EarlyStopping(patience=20)\n",
        "checkpoint_cb = keras.callbacks.ModelCheckpoint(\"my_mnist_model.h5\", save_best_only=True)\n",
        "tensorboard_cb = keras.callbacks.TensorBoard(run_logdir)\n",
        "\n",
        "history = model.fit(X_train, y_train, epochs=100,\n",
        "                    validation_data=(X_valid, y_valid),\n",
        "                    callbacks=[checkpoint_cb, early_stopping_cb, tensorboard_cb])"
      ],
      "execution_count": null,
      "outputs": [
        {
          "name": "stdout",
          "output_type": "stream",
          "text": [
            "Epoch 1/100\n",
            "1719/1719 [==============================] - 3s 2ms/step - loss: 0.4195 - accuracy: 0.8677 - val_loss: 0.0995 - val_accuracy: 0.9724\n",
            "Epoch 2/100\n",
            "1719/1719 [==============================] - 2s 882us/step - loss: 0.0941 - accuracy: 0.9698 - val_loss: 0.0913 - val_accuracy: 0.9746\n",
            "Epoch 3/100\n",
            "1719/1719 [==============================] - 1s 845us/step - loss: 0.0650 - accuracy: 0.9792 - val_loss: 0.0785 - val_accuracy: 0.9772\n",
            "Epoch 4/100\n",
            "1719/1719 [==============================] - 2s 932us/step - loss: 0.0438 - accuracy: 0.9855 - val_loss: 0.0793 - val_accuracy: 0.9784\n",
            "Epoch 5/100\n",
            "1719/1719 [==============================] - 1s 832us/step - loss: 0.0348 - accuracy: 0.9888 - val_loss: 0.0724 - val_accuracy: 0.9812\n",
            "Epoch 6/100\n",
            "1719/1719 [==============================] - 1s 835us/step - loss: 0.0289 - accuracy: 0.9905 - val_loss: 0.0814 - val_accuracy: 0.9792\n",
            "Epoch 7/100\n",
            "1719/1719 [==============================] - 1s 868us/step - loss: 0.0230 - accuracy: 0.9926 - val_loss: 0.0794 - val_accuracy: 0.9808\n",
            "Epoch 8/100\n",
            "1719/1719 [==============================] - 1s 847us/step - loss: 0.0180 - accuracy: 0.9943 - val_loss: 0.0718 - val_accuracy: 0.9826\n",
            "Epoch 9/100\n",
            "1719/1719 [==============================] - 1s 848us/step - loss: 0.0158 - accuracy: 0.9949 - val_loss: 0.0874 - val_accuracy: 0.9798\n",
            "Epoch 10/100\n",
            "1719/1719 [==============================] - 1s 844us/step - loss: 0.0155 - accuracy: 0.9944 - val_loss: 0.0782 - val_accuracy: 0.9824\n",
            "Epoch 11/100\n",
            "1719/1719 [==============================] - 1s 834us/step - loss: 0.0089 - accuracy: 0.9971 - val_loss: 0.0902 - val_accuracy: 0.9832\n",
            "Epoch 12/100\n",
            "1719/1719 [==============================] - 1s 844us/step - loss: 0.0064 - accuracy: 0.9979 - val_loss: 0.0832 - val_accuracy: 0.9832\n",
            "Epoch 13/100\n",
            "1719/1719 [==============================] - 1s 859us/step - loss: 0.0059 - accuracy: 0.9981 - val_loss: 0.0888 - val_accuracy: 0.9814\n",
            "Epoch 14/100\n",
            "1719/1719 [==============================] - 2s 919us/step - loss: 0.0110 - accuracy: 0.9963 - val_loss: 0.1080 - val_accuracy: 0.9792\n",
            "Epoch 15/100\n",
            "1719/1719 [==============================] - 2s 921us/step - loss: 0.0075 - accuracy: 0.9973 - val_loss: 0.0828 - val_accuracy: 0.9840\n",
            "Epoch 16/100\n",
            "1719/1719 [==============================] - 2s 945us/step - loss: 0.0039 - accuracy: 0.9991 - val_loss: 0.0869 - val_accuracy: 0.9848\n",
            "Epoch 17/100\n",
            "1719/1719 [==============================] - 2s 962us/step - loss: 0.0064 - accuracy: 0.9982 - val_loss: 0.0997 - val_accuracy: 0.9816\n",
            "Epoch 18/100\n",
            "1719/1719 [==============================] - 2s 976us/step - loss: 0.0071 - accuracy: 0.9979 - val_loss: 0.1001 - val_accuracy: 0.9840\n",
            "Epoch 19/100\n",
            "1719/1719 [==============================] - 2s 1ms/step - loss: 0.0086 - accuracy: 0.9972 - val_loss: 0.1239 - val_accuracy: 0.9796\n",
            "Epoch 20/100\n",
            "1719/1719 [==============================] - 2s 1ms/step - loss: 0.0095 - accuracy: 0.9973 - val_loss: 0.1107 - val_accuracy: 0.9808\n",
            "Epoch 21/100\n",
            "1719/1719 [==============================] - 2s 1ms/step - loss: 0.0055 - accuracy: 0.9981 - val_loss: 0.0891 - val_accuracy: 0.9840\n",
            "Epoch 22/100\n",
            "1719/1719 [==============================] - 2s 967us/step - loss: 0.0041 - accuracy: 0.9988 - val_loss: 0.0893 - val_accuracy: 0.9844\n",
            "Epoch 23/100\n",
            "1719/1719 [==============================] - 2s 963us/step - loss: 6.1009e-04 - accuracy: 0.9999 - val_loss: 0.0899 - val_accuracy: 0.9848\n",
            "Epoch 24/100\n",
            "1719/1719 [==============================] - 2s 972us/step - loss: 8.4212e-05 - accuracy: 1.0000 - val_loss: 0.0894 - val_accuracy: 0.9862\n",
            "Epoch 25/100\n",
            "1719/1719 [==============================] - 2s 1ms/step - loss: 6.0306e-05 - accuracy: 1.0000 - val_loss: 0.0899 - val_accuracy: 0.9858\n",
            "Epoch 26/100\n",
            "1719/1719 [==============================] - 2s 1ms/step - loss: 4.9564e-05 - accuracy: 1.0000 - val_loss: 0.0903 - val_accuracy: 0.9860\n",
            "Epoch 27/100\n",
            "1719/1719 [==============================] - 2s 1ms/step - loss: 4.3609e-05 - accuracy: 1.0000 - val_loss: 0.0906 - val_accuracy: 0.9862\n",
            "Epoch 28/100\n",
            "1719/1719 [==============================] - 2s 973us/step - loss: 4.2216e-05 - accuracy: 1.0000 - val_loss: 0.0911 - val_accuracy: 0.9862\n"
          ]
        }
      ]
    },
    {
      "cell_type": "code",
      "metadata": {
        "id": "0u8qs933TCLl",
        "outputId": "763f0ea2-5566-4310-8e8a-dddf61abf616"
      },
      "source": [
        "model = keras.models.load_model(\"my_mnist_model.h5\") # rollback to best model\n",
        "model.evaluate(X_test, y_test)"
      ],
      "execution_count": null,
      "outputs": [
        {
          "name": "stdout",
          "output_type": "stream",
          "text": [
            "313/313 [==============================] - 0s 701us/step - loss: 0.0804 - accuracy: 0.9806\n"
          ]
        },
        {
          "data": {
            "text/plain": [
              "[0.08043695986270905, 0.9805999994277954]"
            ]
          },
          "execution_count": 127,
          "metadata": {},
          "output_type": "execute_result"
        }
      ]
    },
    {
      "cell_type": "markdown",
      "metadata": {
        "id": "enaR5r-4TCLl"
      },
      "source": [
        "We got over 98% accuracy. Finally, let's look at the learning curves using TensorBoard:"
      ]
    },
    {
      "cell_type": "code",
      "metadata": {
        "id": "mhEyf2TBTCLl",
        "outputId": "ac1f2877-eb4d-4a06-e491-f6c58be9cd78"
      },
      "source": [
        "%tensorboard --logdir=./my_mnist_logs --port=6006"
      ],
      "execution_count": null,
      "outputs": [
        {
          "data": {
            "text/html": [
              "\n",
              "      <iframe id=\"tensorboard-frame-27a48e88c728a23e\" width=\"100%\" height=\"800\" frameborder=\"0\">\n",
              "      </iframe>\n",
              "      <script>\n",
              "        (function() {\n",
              "          const frame = document.getElementById(\"tensorboard-frame-27a48e88c728a23e\");\n",
              "          const url = new URL(\"/\", window.location);\n",
              "          const port = 6006;\n",
              "          if (port) {\n",
              "            url.port = port;\n",
              "          }\n",
              "          frame.src = url;\n",
              "        })();\n",
              "      </script>\n",
              "    "
            ],
            "text/plain": [
              "<IPython.core.display.HTML object>"
            ]
          },
          "metadata": {},
          "output_type": "display_data"
        }
      ]
    },
    {
      "cell_type": "code",
      "metadata": {
        "id": "uPcWF12cTCLl"
      },
      "source": [
        ""
      ],
      "execution_count": null,
      "outputs": []
    }
  ]
}